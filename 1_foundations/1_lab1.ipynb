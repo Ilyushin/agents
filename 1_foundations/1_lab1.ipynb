{
 "cells": [
  {
   "cell_type": "markdown",
   "metadata": {},
   "source": [
    "# Welcome to the start of your adventure in Agentic AI"
   ]
  },
  {
   "cell_type": "markdown",
   "metadata": {},
   "source": [
    "<table style=\"margin: 0; text-align: left; width:100%\">\n",
    "    <tr>\n",
    "        <td style=\"width: 150px; height: 150px; vertical-align: middle;\">\n",
    "            <img src=\"../assets/stop.png\" width=\"150\" height=\"150\" style=\"display: block;\" />\n",
    "        </td>\n",
    "        <td>\n",
    "            <h2 style=\"color:#ff7800;\">Are you ready for action??</h2>\n",
    "            <span style=\"color:#ff7800;\">Have you completed all the setup steps in the <a href=\"../setup/\">setup</a> folder?<br/>\n",
    "            Have you read the <a href=\"../README.md\">README</a>? Many common questions are answered here!<br/>\n",
    "            Have you checked out the guides in the <a href=\"../guides/01_intro.ipynb\">guides</a> folder?<br/>\n",
    "            Well in that case, you're ready!!\n",
    "            </span>\n",
    "        </td>\n",
    "    </tr>\n",
    "</table>"
   ]
  },
  {
   "cell_type": "markdown",
   "metadata": {},
   "source": [
    "<table style=\"margin: 0; text-align: left; width:100%\">\n",
    "    <tr>\n",
    "        <td style=\"width: 150px; height: 150px; vertical-align: middle;\">\n",
    "            <img src=\"../assets/tools.png\" width=\"150\" height=\"150\" style=\"display: block;\" />\n",
    "        </td>\n",
    "        <td>\n",
    "            <h2 style=\"color:#00bfff;\">This code is a live resource - keep an eye out for my updates</h2>\n",
    "            <span style=\"color:#00bfff;\">I push updates regularly. As people ask questions or have problems, I add more examples and improve explanations. As a result, the code below might not be identical to the videos, as I've added more steps and better comments. Consider this like an interactive book that accompanies the lectures.<br/><br/>\n",
    "            I try to send emails regularly with important updates related to the course. You can find this in the 'Announcements' section of Udemy in the left sidebar. You can also choose to receive my emails via your Notification Settings in Udemy. I'm respectful of your inbox and always try to add value with my emails!\n",
    "            </span>\n",
    "        </td>\n",
    "    </tr>\n",
    "</table>"
   ]
  },
  {
   "cell_type": "markdown",
   "metadata": {},
   "source": [
    "### And please do remember to contact me if I can help\n",
    "\n",
    "And I love to connect: https://www.linkedin.com/in/eddonner/\n",
    "\n",
    "\n",
    "### New to Notebooks like this one? Head over to the guides folder!\n",
    "\n",
    "Just to check you've already added the Python and Jupyter extensions to Cursor, if not already installed:\n",
    "- Open extensions (View >> extensions)\n",
    "- Search for python, and when the results show, click on the ms-python one, and Install it if not already installed\n",
    "- Search for jupyter, and when the results show, click on the Microsoft one, and Install it if not already installed  \n",
    "Then View >> Explorer to bring back the File Explorer.\n",
    "\n",
    "And then:\n",
    "1. Click where it says \"Select Kernel\" near the top right, and select the option called `.venv (Python 3.12.9)` or similar, which should be the first choice or the most prominent choice. You may need to choose \"Python Environments\" first.\n",
    "2. Click in each \"cell\" below, starting with the cell immediately below this text, and press Shift+Enter to run\n",
    "3. Enjoy!\n",
    "\n",
    "After you click \"Select Kernel\", if there is no option like `.venv (Python 3.12.9)` then please do the following:  \n",
    "1. On Mac: From the Cursor menu, choose Settings >> VS Code Settings (NOTE: be sure to select `VSCode Settings` not `Cursor Settings`);  \n",
    "On Windows PC: From the File menu, choose Preferences >> VS Code Settings(NOTE: be sure to select `VSCode Settings` not `Cursor Settings`)  \n",
    "2. In the Settings search bar, type \"venv\"  \n",
    "3. In the field \"Path to folder with a list of Virtual Environments\" put the path to the project root, like C:\\Users\\username\\projects\\agents (on a Windows PC) or /Users/username/projects/agents (on Mac or Linux).  \n",
    "And then try again.\n",
    "\n",
    "Having problems with missing Python versions in that list? Have you ever used Anaconda before? It might be interferring. Quit Cursor, bring up a new command line, and make sure that your Anaconda environment is deactivated:    \n",
    "`conda deactivate`  \n",
    "And if you still have any problems with conda and python versions, it's possible that you will need to run this too:  \n",
    "`conda config --set auto_activate_base false`  \n",
    "and then from within the Agents directory, you should be able to run `uv python list` and see the Python 3.12 version."
   ]
  },
  {
   "cell_type": "code",
   "metadata": {
    "ExecuteTime": {
     "end_time": "2025-08-03T14:33:34.911580Z",
     "start_time": "2025-08-03T14:33:34.909890Z"
    }
   },
   "source": [
    "# First let's do an import. If you get an Import Error, double check that your Kernel is correct..\n",
    "\n",
    "from dotenv import load_dotenv\n"
   ],
   "outputs": [],
   "execution_count": 16
  },
  {
   "cell_type": "code",
   "metadata": {
    "ExecuteTime": {
     "end_time": "2025-08-03T14:33:34.930306Z",
     "start_time": "2025-08-03T14:33:34.927729Z"
    }
   },
   "source": [
    "# Next it's time to load the API keys into environment variables\n",
    "# If this returns false, see the next cell!\n",
    "\n",
    "load_dotenv(override=True)"
   ],
   "outputs": [
    {
     "data": {
      "text/plain": [
       "True"
      ]
     },
     "execution_count": 17,
     "metadata": {},
     "output_type": "execute_result"
    }
   ],
   "execution_count": 17
  },
  {
   "cell_type": "markdown",
   "metadata": {},
   "source": [
    "### Wait, did that just output `False`??\n",
    "\n",
    "If so, the most common reason is that you didn't save your `.env` file after adding the key! Be sure to have saved.\n",
    "\n",
    "Also, make sure the `.env` file is named precisely `.env` and is in the project root directory (`agents`)\n",
    "\n",
    "By the way, your `.env` file should have a stop symbol next to it in Cursor on the left, and that's actually a good thing: that's Cursor saying to you, \"hey, I realize this is a file filled with secret information, and I'm not going to send it to an external AI to suggest changes, because your keys should not be shown to anyone else.\""
   ]
  },
  {
   "cell_type": "markdown",
   "metadata": {},
   "source": [
    "<table style=\"margin: 0; text-align: left; width:100%\">\n",
    "    <tr>\n",
    "        <td style=\"width: 150px; height: 150px; vertical-align: middle;\">\n",
    "            <img src=\"../assets/stop.png\" width=\"150\" height=\"150\" style=\"display: block;\" />\n",
    "        </td>\n",
    "        <td>\n",
    "            <h2 style=\"color:#ff7800;\">Final reminders</h2>\n",
    "            <span style=\"color:#ff7800;\">1. If you're not confident about Environment Variables or Web Endpoints / APIs, please read Topics 3 and 5 in this <a href=\"../guides/04_technical_foundations.ipynb\">technical foundations guide</a>.<br/>\n",
    "            2. If you want to use AIs other than OpenAI, like Gemini, DeepSeek or Ollama (free), please see the first section in this <a href=\"../guides/09_ai_apis_and_ollama.ipynb\">AI APIs guide</a>.<br/>\n",
    "            3. If you ever get a Name Error in Python, you can always fix it immediately; see the last section of this <a href=\"../guides/06_python_foundations.ipynb\">Python Foundations guide</a> and follow both tutorials and exercises.<br/>\n",
    "            </span>\n",
    "        </td>\n",
    "    </tr>\n",
    "</table>"
   ]
  },
  {
   "cell_type": "code",
   "metadata": {
    "ExecuteTime": {
     "end_time": "2025-08-03T14:33:34.940314Z",
     "start_time": "2025-08-03T14:33:34.938529Z"
    }
   },
   "source": [
    "# Check the key - if you're not using OpenAI, check whichever key you're using! Ollama doesn't need a key.\n",
    "\n",
    "import os\n",
    "openai_api_key = os.getenv('OPENAI_API_KEY')\n",
    "\n",
    "if openai_api_key:\n",
    "    print(f\"OpenAI API Key exists and begins {openai_api_key[:8]}\")\n",
    "else:\n",
    "    print(\"OpenAI API Key not set - please head to the troubleshooting guide in the setup folder\")\n",
    "    \n"
   ],
   "outputs": [
    {
     "name": "stdout",
     "output_type": "stream",
     "text": [
      "OpenAI API Key exists and begins sk-proj-\n"
     ]
    }
   ],
   "execution_count": 18
  },
  {
   "cell_type": "code",
   "metadata": {
    "ExecuteTime": {
     "end_time": "2025-08-03T14:33:34.956127Z",
     "start_time": "2025-08-03T14:33:34.954609Z"
    }
   },
   "source": [
    "# And now - the all important import statement\n",
    "# If you get an import error - head over to troubleshooting in the Setup folder\n",
    "# Even for other LLM providers like Gemini, you still use this OpenAI import - see Guide 9 for why\n",
    "\n",
    "from openai import OpenAI"
   ],
   "outputs": [],
   "execution_count": 19
  },
  {
   "cell_type": "code",
   "metadata": {
    "ExecuteTime": {
     "end_time": "2025-08-03T14:33:34.977861Z",
     "start_time": "2025-08-03T14:33:34.965667Z"
    }
   },
   "source": [
    "# And now we'll create an instance of the OpenAI class\n",
    "# If you're not sure what it means to create an instance of a class - head over to the guides folder (guide 6)!\n",
    "# If you get a NameError - head over to the guides folder (guide 6)to learn about NameErrors - always instantly fixable\n",
    "# If you're not using OpenAI, you just need to slightly modify this - precise instructions are in the AI APIs guide (guide 9)\n",
    "\n",
    "openai = OpenAI()"
   ],
   "outputs": [],
   "execution_count": 20
  },
  {
   "cell_type": "code",
   "metadata": {
    "ExecuteTime": {
     "end_time": "2025-08-03T14:33:34.984468Z",
     "start_time": "2025-08-03T14:33:34.983038Z"
    }
   },
   "source": [
    "# Create a list of messages in the familiar OpenAI format\n",
    "\n",
    "messages = [{\"role\": \"user\", \"content\": \"What is 2+2?\"}]"
   ],
   "outputs": [],
   "execution_count": 21
  },
  {
   "cell_type": "code",
   "metadata": {
    "ExecuteTime": {
     "end_time": "2025-08-03T14:33:35.962779Z",
     "start_time": "2025-08-03T14:33:34.992513Z"
    }
   },
   "source": [
    "# And now call it! Any problems, head to the troubleshooting guide\n",
    "# This uses GPT 4.1 nano, the incredibly cheap model\n",
    "# The APIs guide (guide 9) has exact instructions for using even cheaper or free alternatives to OpenAI\n",
    "# If you get a NameError, head to the guides folder (guide 6) to learn about NameErrors - always instantly fixable\n",
    "\n",
    "response = openai.chat.completions.create(\n",
    "    model=\"gpt-4.1-nano\",\n",
    "    messages=messages\n",
    ")\n",
    "\n",
    "print(response.choices[0].message.content)\n"
   ],
   "outputs": [
    {
     "name": "stdout",
     "output_type": "stream",
     "text": [
      "2 + 2 equals 4.\n"
     ]
    }
   ],
   "execution_count": 22
  },
  {
   "cell_type": "code",
   "metadata": {
    "ExecuteTime": {
     "end_time": "2025-08-03T14:33:35.986899Z",
     "start_time": "2025-08-03T14:33:35.985052Z"
    }
   },
   "source": [
    "# And now - let's ask for a question:\n",
    "\n",
    "question = \"Please propose a hard, challenging question to assess someone's IQ. Respond only with the question.\"\n",
    "messages = [{\"role\": \"user\", \"content\": question}]\n"
   ],
   "outputs": [],
   "execution_count": 23
  },
  {
   "cell_type": "code",
   "metadata": {
    "ExecuteTime": {
     "end_time": "2025-08-03T14:33:36.935489Z",
     "start_time": "2025-08-03T14:33:35.998752Z"
    }
   },
   "source": [
    "# ask it - this uses GPT 4.1 mini, still cheap but more powerful than nano\n",
    "\n",
    "response = openai.chat.completions.create(\n",
    "    model=\"gpt-4.1-mini\",\n",
    "    messages=messages\n",
    ")\n",
    "\n",
    "question = response.choices[0].message.content\n",
    "\n",
    "print(question)\n"
   ],
   "outputs": [
    {
     "name": "stdout",
     "output_type": "stream",
     "text": [
      "If 5 machines take 5 minutes to make 5 widgets, how long would 100 machines take to make 100 widgets?\n"
     ]
    }
   ],
   "execution_count": 24
  },
  {
   "cell_type": "code",
   "metadata": {
    "ExecuteTime": {
     "end_time": "2025-08-03T14:33:36.951702Z",
     "start_time": "2025-08-03T14:33:36.949560Z"
    }
   },
   "source": [
    "# form a new messages list\n",
    "messages = [{\"role\": \"user\", \"content\": question}]\n"
   ],
   "outputs": [],
   "execution_count": 25
  },
  {
   "cell_type": "code",
   "metadata": {
    "ExecuteTime": {
     "end_time": "2025-08-03T14:33:40.925560Z",
     "start_time": "2025-08-03T14:33:36.961824Z"
    }
   },
   "source": [
    "# Ask it again\n",
    "\n",
    "response = openai.chat.completions.create(\n",
    "    model=\"gpt-4.1-mini\",\n",
    "    messages=messages\n",
    ")\n",
    "\n",
    "answer = response.choices[0].message.content\n",
    "print(answer)\n"
   ],
   "outputs": [
    {
     "name": "stdout",
     "output_type": "stream",
     "text": [
      "Let's analyze the problem step-by-step:\n",
      "\n",
      "- 5 machines take 5 minutes to make 5 widgets.\n",
      "  \n",
      "From this, we can find how long it takes one machine to make one widget.\n",
      "\n",
      "---\n",
      "\n",
      "**Step 1: Find the rate of one machine**\n",
      "\n",
      "Since 5 machines make 5 widgets in 5 minutes, that means:\n",
      "\n",
      "- Total widgets made per minute by 5 machines = \\( \\frac{5 \\text{ widgets}}{5 \\text{ minutes}} = 1 \\text{ widget/minute} \\)\n",
      "\n",
      "- So, 5 machines make 1 widget per minute.\n",
      "\n",
      "- Therefore, 1 machine makes \\( \\frac{1}{5} \\) widgets per minute.\n",
      "\n",
      "---\n",
      "\n",
      "**Step 2: Calculate time for 100 machines to make 100 widgets**\n",
      "\n",
      "- 1 machine’s rate = \\( \\frac{1}{5} \\) widgets per minute.\n",
      "\n",
      "- 100 machines’ rate = \\( 100 \\times \\frac{1}{5} = 20 \\) widgets per minute.\n",
      "\n",
      "- To make 100 widgets at 20 widgets per minute, the time needed is:\n",
      "\n",
      "\\[\n",
      "\\frac{100 \\text{ widgets}}{20 \\text{ widgets/minute}} = 5 \\text{ minutes}\n",
      "\\]\n",
      "\n",
      "---\n",
      "\n",
      "**Answer:**\n",
      "\n",
      "\\[\n",
      "\\boxed{5 \\text{ minutes}}\n",
      "\\]\n",
      "\n",
      "So, 100 machines will take 5 minutes to make 100 widgets.\n"
     ]
    }
   ],
   "execution_count": 26
  },
  {
   "cell_type": "code",
   "metadata": {
    "ExecuteTime": {
     "end_time": "2025-08-03T14:33:40.942937Z",
     "start_time": "2025-08-03T14:33:40.940060Z"
    }
   },
   "source": [
    "from IPython.display import Markdown, display\n",
    "\n",
    "display(Markdown(answer))\n",
    "\n"
   ],
   "outputs": [
    {
     "data": {
      "text/plain": [
       "<IPython.core.display.Markdown object>"
      ],
      "text/markdown": "Let's analyze the problem step-by-step:\n\n- 5 machines take 5 minutes to make 5 widgets.\n  \nFrom this, we can find how long it takes one machine to make one widget.\n\n---\n\n**Step 1: Find the rate of one machine**\n\nSince 5 machines make 5 widgets in 5 minutes, that means:\n\n- Total widgets made per minute by 5 machines = \\( \\frac{5 \\text{ widgets}}{5 \\text{ minutes}} = 1 \\text{ widget/minute} \\)\n\n- So, 5 machines make 1 widget per minute.\n\n- Therefore, 1 machine makes \\( \\frac{1}{5} \\) widgets per minute.\n\n---\n\n**Step 2: Calculate time for 100 machines to make 100 widgets**\n\n- 1 machine’s rate = \\( \\frac{1}{5} \\) widgets per minute.\n\n- 100 machines’ rate = \\( 100 \\times \\frac{1}{5} = 20 \\) widgets per minute.\n\n- To make 100 widgets at 20 widgets per minute, the time needed is:\n\n\\[\n\\frac{100 \\text{ widgets}}{20 \\text{ widgets/minute}} = 5 \\text{ minutes}\n\\]\n\n---\n\n**Answer:**\n\n\\[\n\\boxed{5 \\text{ minutes}}\n\\]\n\nSo, 100 machines will take 5 minutes to make 100 widgets."
     },
     "metadata": {},
     "output_type": "display_data"
    }
   ],
   "execution_count": 27
  },
  {
   "cell_type": "markdown",
   "metadata": {},
   "source": [
    "# Congratulations!\n",
    "\n",
    "That was a small, simple step in the direction of Agentic AI, with your new environment!\n",
    "\n",
    "Next time things get more interesting..."
   ]
  },
  {
   "cell_type": "markdown",
   "metadata": {},
   "source": [
    "<table style=\"margin: 0; text-align: left; width:100%\">\n",
    "    <tr>\n",
    "        <td style=\"width: 150px; height: 150px; vertical-align: middle;\">\n",
    "            <img src=\"../assets/exercise.png\" width=\"150\" height=\"150\" style=\"display: block;\" />\n",
    "        </td>\n",
    "        <td>\n",
    "            <h2 style=\"color:#ff7800;\">Exercise</h2>\n",
    "            <span style=\"color:#ff7800;\">Now try this commercial application:<br/>\n",
    "            First ask the LLM to pick a business area that might be worth exploring for an Agentic AI opportunity.<br/>\n",
    "            Then ask the LLM to present a pain-point in that industry - something challenging that might be ripe for an Agentic solution.<br/>\n",
    "            Finally have 3 third LLM call propose the Agentic AI solution. <br/>\n",
    "            We will cover this at up-coming labs, so don't worry if you're unsure.. just give it a try!\n",
    "            </span>\n",
    "        </td>\n",
    "    </tr>\n",
    "</table>"
   ]
  },
  {
   "cell_type": "code",
   "metadata": {
    "ExecuteTime": {
     "end_time": "2025-08-03T14:35:17.380608Z",
     "start_time": "2025-08-03T14:35:12.074484Z"
    }
   },
   "source": [
    "# First create the messages:\n",
    "\n",
    "messages = [{\"role\": \"user\", \"content\": \"Could you pick a business area that might be worth exploring for an Agentic AI opportunity?\"}]\n",
    "\n",
    "# Then make the first call:\n",
    "\n",
    "response = openai.chat.completions.create(\n",
    "    model=\"gpt-4.1-mini\",\n",
    "    messages=messages\n",
    ")\n",
    "\n",
    "# Then read the business idea:\n",
    "\n",
    "business_idea = response.choices[0].message.content\n",
    "print(business_idea)\n",
    "\n",
    "# And repeat! In the next message, include the business idea within the message"
   ],
   "outputs": [
    {
     "name": "stdout",
     "output_type": "stream",
     "text": [
      "Certainly! One promising business area for an Agentic AI opportunity is **Personalized Healthcare Management**.\n",
      "\n",
      "### Why Personalized Healthcare Management?\n",
      "\n",
      "1. **Complexity and Personalization Needs**  \n",
      "   Healthcare involves vast amounts of data—from patient histories and genetics to lifestyle and environment—that require nuanced analysis. An agentic AI can autonomously gather, interpret, and act on this data to deliver tailored health recommendations, treatment plans, and proactive monitoring.\n",
      "\n",
      "2. **Continuous and Dynamic Decision-Making**  \n",
      "   Patients’ health conditions evolve over time, demanding continuous adjustment of care strategies. An agentic AI could autonomously manage medication schedules, suggest lifestyle changes, or detect early signs of complications, adapting its guidance dynamically.\n",
      "\n",
      "3. **Integration with Wearable and IoT Devices**  \n",
      "   With an increasing number of health monitoring devices, agentic AI can aggregate real-time sensor data, provide alerts, and interact with healthcare providers or emergency services when necessary.\n",
      "\n",
      "4. **Reducing Healthcare Costs and Increasing Access**  \n",
      "   By automating routine monitoring and personalized coaching, agentic AI can reduce the need for in-person visits and help manage chronic diseases more efficiently, making healthcare more affordable and accessible.\n",
      "\n",
      "### Potential Applications\n",
      "\n",
      "- Automated chronic disease management (e.g., diabetes, hypertension) with real-time care adjustments  \n",
      "- Personalized mental health support with autonomous analysis of behavioral patterns  \n",
      "- Preventive care through proactive monitoring and early-warning systems  \n",
      "- Medication adherence and logistical management, including prescriptions and pharmacy coordination\n",
      "\n",
      "### Considerations\n",
      "\n",
      "- Ensuring data privacy and security in compliance with regulations (HIPAA, GDPR)  \n",
      "- Building transparent and explainable AI decision frameworks to maintain trust  \n",
      "- Integrating with existing healthcare infrastructures and electronic health records (EHR)\n",
      "\n",
      "---\n",
      "\n",
      "Exploring an agentic AI solution in personalized healthcare management could have significant impact by enhancing patient outcomes and improving system efficiency, making it a valuable and meaningful business opportunity. Would you like me to suggest specific features or potential technology stacks for such an AI?\n"
     ]
    }
   ],
   "execution_count": 29
  },
  {
   "metadata": {
    "ExecuteTime": {
     "end_time": "2025-08-03T14:38:19.960794Z",
     "start_time": "2025-08-03T14:38:03.876547Z"
    }
   },
   "cell_type": "code",
   "source": [
    "messages = [{\"role\": \"user\", \"content\": \"Could you present a pain-point in Personalized Healthcare Management - something challenging that might be ripe for an Agentic solution?\"}]\n",
    "\n",
    "# Then make the first call:\n",
    "\n",
    "response = openai.chat.completions.create(\n",
    "    model=\"gpt-4.1-mini\",\n",
    "    messages=messages\n",
    ")\n",
    "\n",
    "# Then read the business idea:\n",
    "\n",
    "challenging_idea = response.choices[0].message.content\n",
    "print(challenging_idea)"
   ],
   "outputs": [
    {
     "name": "stdout",
     "output_type": "stream",
     "text": [
      "Certainly! One significant pain point in Personalized Healthcare Management is **the integration and interpretation of heterogeneous health data from multiple sources to provide timely, individualized care recommendations**.\n",
      "\n",
      "### Challenge:\n",
      "Patients generate vast amounts of health-related data from diverse channels—clinical records, wearable devices, genomic information, patient-reported outcomes, and even social determinants of health. However, this data is often siloed, inconsistently formatted, and overwhelming for both patients and healthcare providers to interpret. Consequently:\n",
      "\n",
      "- Clinicians may struggle to obtain a holistic, real-time view of a patient’s health status.\n",
      "- Personalized treatment adjustments can be delayed or suboptimal.\n",
      "- Patients receive generalized rather than truly tailored healthcare advice, reducing engagement and adherence.\n",
      "\n",
      "### Why This is Ripe for an Agentic Solution:\n",
      "An **agentic AI system**—one that can autonomously gather, synthesize, and reason over multimodal health data—could address these challenges by:\n",
      "\n",
      "- **Integrating data across sources** without extensive manual data wrangling.\n",
      "- **Continuously monitoring and detecting meaningful changes** or risks in a patient’s health profile.\n",
      "- **Proactively generating personalized insights and care recommendations**.\n",
      "- **Communicating with patients and providers interactively**, adjusting advice based on feedback and evolving context.\n",
      "\n",
      "Such an autonomous agent could serve as a real-time personalized health assistant, alleviating cognitive overload on providers and empowering patients with actionable, customized guidance—advancing truly personalized healthcare management.\n"
     ]
    }
   ],
   "execution_count": 30
  },
  {
   "metadata": {},
   "cell_type": "markdown",
   "source": ""
  }
 ],
 "metadata": {
  "kernelspec": {
   "display_name": ".venv",
   "language": "python",
   "name": "python3"
  },
  "language_info": {
   "codemirror_mode": {
    "name": "ipython",
    "version": 3
   },
   "file_extension": ".py",
   "mimetype": "text/x-python",
   "name": "python",
   "nbconvert_exporter": "python",
   "pygments_lexer": "ipython3",
   "version": "3.12.9"
  }
 },
 "nbformat": 4,
 "nbformat_minor": 2
}
