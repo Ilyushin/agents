{
 "cells": [
  {
   "cell_type": "markdown",
   "metadata": {},
   "source": [
    "## Week 2 Day 3\n",
    "\n",
    "Now we get to more detail:\n",
    "\n",
    "1. Different models\n",
    "\n",
    "2. Structured Outputs\n",
    "\n",
    "3. Guardrails"
   ]
  },
  {
   "cell_type": "code",
   "metadata": {
    "ExecuteTime": {
     "end_time": "2025-08-11T05:53:40.635644Z",
     "start_time": "2025-08-11T05:53:40.375314Z"
    }
   },
   "source": [
    "from dotenv import load_dotenv\n",
    "from openai import AsyncOpenAI\n",
    "from agents import Agent, Runner, trace, function_tool, OpenAIChatCompletionsModel, input_guardrail, \\\n",
    "    GuardrailFunctionOutput\n",
    "from typing import Dict\n",
    "import sendgrid\n",
    "import os\n",
    "from sendgrid.helpers.mail import Mail, Email, To, Content\n",
    "from pydantic import BaseModel"
   ],
   "outputs": [],
   "execution_count": 1
  },
  {
   "cell_type": "code",
   "metadata": {
    "ExecuteTime": {
     "end_time": "2025-08-11T05:53:40.642975Z",
     "start_time": "2025-08-11T05:53:40.640149Z"
    }
   },
   "source": [
    "load_dotenv(override=True)"
   ],
   "outputs": [
    {
     "data": {
      "text/plain": [
       "True"
      ]
     },
     "execution_count": 2,
     "metadata": {},
     "output_type": "execute_result"
    }
   ],
   "execution_count": 2
  },
  {
   "cell_type": "code",
   "metadata": {
    "ExecuteTime": {
     "end_time": "2025-08-11T05:53:40.649205Z",
     "start_time": "2025-08-11T05:53:40.647202Z"
    }
   },
   "source": [
    "openai_api_key = os.getenv('OPENAI_API_KEY')\n",
    "google_api_key = os.getenv('GOOGLE_API_KEY')\n",
    "deepseek_api_key = os.getenv('DEEPSEEK_API_KEY')\n",
    "groq_api_key = os.getenv('GROQ_API_KEY')\n",
    "\n",
    "if openai_api_key:\n",
    "    print(f\"OpenAI API Key exists and begins {openai_api_key[:8]}\")\n",
    "else:\n",
    "    print(\"OpenAI API Key not set\")\n",
    "\n",
    "if google_api_key:\n",
    "    print(f\"Google API Key exists and begins {google_api_key[:2]}\")\n",
    "else:\n",
    "    print(\"Google API Key not set (and this is optional)\")\n",
    "\n",
    "if deepseek_api_key:\n",
    "    print(f\"DeepSeek API Key exists and begins {deepseek_api_key[:3]}\")\n",
    "else:\n",
    "    print(\"DeepSeek API Key not set (and this is optional)\")\n",
    "\n",
    "if groq_api_key:\n",
    "    print(f\"Groq API Key exists and begins {groq_api_key[:4]}\")\n",
    "else:\n",
    "    print(\"Groq API Key not set (and this is optional)\")"
   ],
   "outputs": [
    {
     "name": "stdout",
     "output_type": "stream",
     "text": [
      "OpenAI API Key exists and begins sk-proj-\n",
      "Google API Key not set (and this is optional)\n",
      "DeepSeek API Key exists and begins sk-\n",
      "Groq API Key not set (and this is optional)\n"
     ]
    }
   ],
   "execution_count": 3
  },
  {
   "cell_type": "code",
   "metadata": {
    "ExecuteTime": {
     "end_time": "2025-08-11T05:53:40.662438Z",
     "start_time": "2025-08-11T05:53:40.660949Z"
    }
   },
   "source": [
    "instructions1 = \"You are a sales agent working for ComplAI, \\\n",
    "a company that provides a SaaS tool for ensuring SOC2 compliance and preparing for audits, powered by AI. \\\n",
    "You write professional, serious cold emails.\"\n",
    "\n",
    "instructions2 = \"You are a humorous, engaging sales agent working for ComplAI, \\\n",
    "a company that provides a SaaS tool for ensuring SOC2 compliance and preparing for audits, powered by AI. \\\n",
    "You write witty, engaging cold emails that are likely to get a response.\"\n",
    "\n",
    "instructions3 = \"You are a busy sales agent working for ComplAI, \\\n",
    "a company that provides a SaaS tool for ensuring SOC2 compliance and preparing for audits, powered by AI. \\\n",
    "You write concise, to the point cold emails.\""
   ],
   "outputs": [],
   "execution_count": 4
  },
  {
   "cell_type": "markdown",
   "metadata": {},
   "source": [
    "### It's easy to use any models with OpenAI compatible endpoints"
   ]
  },
  {
   "cell_type": "code",
   "metadata": {
    "ExecuteTime": {
     "end_time": "2025-08-11T05:53:40.668021Z",
     "start_time": "2025-08-11T05:53:40.666772Z"
    }
   },
   "source": [
    "GEMINI_BASE_URL = \"https://generativelanguage.googleapis.com/v1beta/openai/\"\n",
    "DEEPSEEK_BASE_URL = \"https://api.deepseek.com/v1\"\n",
    "GROQ_BASE_URL = \"https://api.groq.com/openai/v1\"\n"
   ],
   "outputs": [],
   "execution_count": 5
  },
  {
   "metadata": {
    "ExecuteTime": {
     "end_time": "2025-08-11T05:53:40.671702Z",
     "start_time": "2025-08-11T05:53:40.670153Z"
    }
   },
   "cell_type": "code",
   "source": [
    "OLLAMA_URL_1 = os.getenv('OLLAMA_URL_1')\n",
    "OLLAMA_URL_2 = os.getenv('OLLAMA_URL_2')\n",
    "OLLAMA_URL_3 = os.getenv('OLLAMA_URL_3')\n",
    "\n",
    "OLLAMA_MODEL_GPT_OSS = os.getenv('OLLAMA_MODEL_GPT_OSS')\n",
    "OLLAMA_MODEL_DEEPSEEK = os.getenv('OLLAMA_MODEL_DEEPSEEK')\n",
    "OLLAMA_MODEL_LLAMA = os.getenv('OLLAMA_MODEL_LLAMA')\n"
   ],
   "outputs": [],
   "execution_count": 6
  },
  {
   "cell_type": "code",
   "metadata": {
    "ExecuteTime": {
     "end_time": "2025-08-11T05:53:40.703302Z",
     "start_time": "2025-08-11T05:53:40.673545Z"
    }
   },
   "source": [
    "# deepseek_client = AsyncOpenAI(base_url=DEEPSEEK_BASE_URL, api_key=deepseek_api_key)\n",
    "# gemini_client = AsyncOpenAI(base_url=GEMINI_BASE_URL, api_key=google_api_key)\n",
    "# groq_client = AsyncOpenAI(base_url=GROQ_BASE_URL, api_key=groq_api_key)\n",
    "\n",
    "gpt_client = AsyncOpenAI(base_url=OLLAMA_URL_1, api_key='ollama')\n",
    "deepseek_client = AsyncOpenAI(base_url=OLLAMA_URL_2, api_key='ollama')\n",
    "llama_client = AsyncOpenAI(base_url=OLLAMA_URL_3, api_key='ollama')\n",
    "\n",
    "\n",
    "gpt_model = OpenAIChatCompletionsModel(\n",
    "    model=OLLAMA_MODEL_GPT_OSS,\n",
    "    openai_client=gpt_client\n",
    ")\n",
    "deepseek_model = OpenAIChatCompletionsModel(\n",
    "    model=OLLAMA_MODEL_DEEPSEEK,\n",
    "    openai_client=deepseek_client\n",
    ")\n",
    "llama3_3_model = OpenAIChatCompletionsModel(\n",
    "    model=OLLAMA_MODEL_LLAMA,\n",
    "    openai_client=llama_client\n",
    ")\n"
   ],
   "outputs": [],
   "execution_count": 7
  },
  {
   "cell_type": "code",
   "metadata": {
    "ExecuteTime": {
     "end_time": "2025-08-11T05:53:40.707095Z",
     "start_time": "2025-08-11T05:53:40.705638Z"
    }
   },
   "source": [
    "sales_agent1 = Agent(\n",
    "    name=\"DeepSeek Sales Agent\",\n",
    "    instructions=instructions1,\n",
    "    model=deepseek_model\n",
    ")\n",
    "sales_agent2 = Agent(\n",
    "    name=\"GPT Sales Agent\",\n",
    "    instructions=instructions2,\n",
    "    model=gpt_model\n",
    ")\n",
    "sales_agent3 = Agent(\n",
    "    name=\"Llama3.3 Sales Agent\",\n",
    "    instructions=instructions3,\n",
    "    model=llama3_3_model\n",
    ")\n"
   ],
   "outputs": [],
   "execution_count": 8
  },
  {
   "cell_type": "code",
   "metadata": {
    "ExecuteTime": {
     "end_time": "2025-08-11T05:53:40.711561Z",
     "start_time": "2025-08-11T05:53:40.709111Z"
    }
   },
   "source": [
    "description = \"Write a cold sales email\"\n",
    "\n",
    "tool1 = sales_agent1.as_tool(tool_name=\"sales_agent1\", tool_description=description)\n",
    "tool2 = sales_agent2.as_tool(tool_name=\"sales_agent2\", tool_description=description)\n",
    "tool3 = sales_agent3.as_tool(tool_name=\"sales_agent3\", tool_description=description)\n"
   ],
   "outputs": [],
   "execution_count": 9
  },
  {
   "cell_type": "code",
   "metadata": {
    "ExecuteTime": {
     "end_time": "2025-08-11T05:53:40.715343Z",
     "start_time": "2025-08-11T05:53:40.713328Z"
    }
   },
   "source": [
    "@function_tool\n",
    "def send_html_email(subject: str, html_body: str) -> Dict[str, str]:\n",
    "    \"\"\" Send out an email with the given subject and HTML body to all sales prospects \"\"\"\n",
    "    sg = sendgrid.SendGridAPIClient(api_key=os.environ.get('SENDGRID_API_KEY'))\n",
    "    from_email = Email(\"ed@edwarddonner.com\")  # Change to your verified sender\n",
    "    to_email = To(\"ed.donner@gmail.com\")  # Change to your recipient\n",
    "    content = Content(\"text/html\", html_body)\n",
    "    mail = Mail(from_email, to_email, subject, content).get()\n",
    "    sg.client.mail.send.post(request_body=mail)\n",
    "    return {\"status\": \"success\"}\n"
   ],
   "outputs": [],
   "execution_count": 10
  },
  {
   "cell_type": "code",
   "metadata": {
    "ExecuteTime": {
     "end_time": "2025-08-11T05:53:40.719441Z",
     "start_time": "2025-08-11T05:53:40.717189Z"
    }
   },
   "source": [
    "subject_instructions = \"You can write a subject for a cold sales email. \\\n",
    "You are given a message and you need to write a subject for an email that is likely to get a response.\"\n",
    "\n",
    "html_instructions = \"You can convert a text email body to an HTML email body. \\\n",
    "You are given a text email body which might have some markdown \\\n",
    "and you need to convert it to an HTML email body with simple, clear, compelling layout and design.\"\n",
    "\n",
    "subject_writer = Agent(\n",
    "    name=\"Email subject writer\",\n",
    "    instructions=subject_instructions,\n",
    "    model=\"gpt-4o-mini\"\n",
    ")\n",
    "subject_tool = subject_writer.as_tool(\n",
    "    tool_name=\"subject_writer\",\n",
    "    tool_description=\"Write a subject for a cold sales email\"\n",
    ")\n",
    "\n",
    "html_converter = Agent(\n",
    "    name=\"HTML email body converter\",\n",
    "    instructions=html_instructions,\n",
    "    model=\"gpt-4o-mini\"\n",
    ")\n",
    "html_tool = html_converter.as_tool(\n",
    "    tool_name=\"html_converter\",\n",
    "    tool_description=\"Convert a text email body to an HTML email body\"\n",
    ")\n"
   ],
   "outputs": [],
   "execution_count": 11
  },
  {
   "cell_type": "code",
   "metadata": {
    "ExecuteTime": {
     "end_time": "2025-08-11T05:53:40.722304Z",
     "start_time": "2025-08-11T05:53:40.721034Z"
    }
   },
   "source": "email_tools = [subject_tool, html_tool, send_html_email]\n",
   "outputs": [],
   "execution_count": 12
  },
  {
   "cell_type": "code",
   "metadata": {
    "ExecuteTime": {
     "end_time": "2025-08-11T05:53:40.725439Z",
     "start_time": "2025-08-11T05:53:40.724153Z"
    }
   },
   "source": [
    "instructions = \"You are an email formatter and sender. You receive the body of an email to be sent. \\\n",
    "You first use the subject_writer tool to write a subject for the email, then use the html_converter tool to convert the body to HTML. \\\n",
    "Finally, you use the send_html_email tool to send the email with the subject and HTML body.\"\n",
    "\n",
    "emailer_agent = Agent(\n",
    "    name=\"Email Manager\",\n",
    "    instructions=instructions,\n",
    "    tools=email_tools,\n",
    "    model=\"gpt-4o-mini\",\n",
    "    handoff_description=\"Convert an email to HTML and send it\"\n",
    ")\n"
   ],
   "outputs": [],
   "execution_count": 13
  },
  {
   "cell_type": "code",
   "metadata": {
    "ExecuteTime": {
     "end_time": "2025-08-11T05:53:40.728597Z",
     "start_time": "2025-08-11T05:53:40.727317Z"
    }
   },
   "source": [
    "tools = [tool1, tool2, tool3]\n",
    "handoffs = [emailer_agent]\n"
   ],
   "outputs": [],
   "execution_count": 14
  },
  {
   "cell_type": "code",
   "metadata": {
    "ExecuteTime": {
     "end_time": "2025-08-11T05:57:50.374890Z",
     "start_time": "2025-08-11T05:53:40.730354Z"
    }
   },
   "source": [
    "sales_manager_instructions = \"\"\"\n",
    "You are a Sales Manager at ComplAI. Your goal is to find the single best cold sales email using the sales_agent tools.\n",
    " \n",
    "Follow these steps carefully:\n",
    "1. Generate Drafts: Use all three sales_agent tools to generate three different email drafts. Do not proceed until all three drafts are ready.\n",
    " \n",
    "2. Evaluate and Select: Review the drafts and choose the single best email using your judgment of which one is most effective.\n",
    "You can use the tools multiple times if you're not satisfied with the results from the first try.\n",
    " \n",
    "3. Handoff for Sending: Pass ONLY the winning email draft to the 'Email Manager' agent. The Email Manager will take care of formatting and sending.\n",
    " \n",
    "Crucial Rules:\n",
    "- You must use the sales agent tools to generate the drafts — do not write them yourself.\n",
    "- You must hand off exactly ONE email to the Email Manager — never more than one.\n",
    "\"\"\"\n",
    "\n",
    "sales_manager = Agent(\n",
    "    name=\"Sales Manager\",\n",
    "    instructions=sales_manager_instructions,\n",
    "    tools=tools,\n",
    "    handoffs=handoffs,\n",
    "    model=\"gpt-4o-mini\"\n",
    ")\n",
    "\n",
    "message = \"Send out a cold sales email addressed to Dear CEO from Alice\"\n",
    "\n",
    "with trace(\"Automated SDR\"):\n",
    "    result = await Runner.run(sales_manager, message)"
   ],
   "outputs": [],
   "execution_count": 15
  },
  {
   "cell_type": "markdown",
   "metadata": {},
   "source": [
    "## Check out the trace:\n",
    "\n",
    "https://platform.openai.com/traces"
   ]
  },
  {
   "cell_type": "code",
   "metadata": {
    "ExecuteTime": {
     "end_time": "2025-08-11T05:57:50.425355Z",
     "start_time": "2025-08-11T05:57:50.423451Z"
    }
   },
   "source": [
    "class NameCheckOutput(BaseModel):\n",
    "    is_name_in_message: bool\n",
    "    name: str\n",
    "\n",
    "\n",
    "guardrail_agent = Agent(\n",
    "    name=\"Name check\",\n",
    "    instructions=\"Check if the user is including someone's personal name in what they want you to do.\",\n",
    "    output_type=NameCheckOutput,\n",
    "    model=\"gpt-4o-mini\"\n",
    ")"
   ],
   "outputs": [],
   "execution_count": 16
  },
  {
   "cell_type": "code",
   "metadata": {
    "ExecuteTime": {
     "end_time": "2025-08-11T05:57:50.430344Z",
     "start_time": "2025-08-11T05:57:50.428694Z"
    }
   },
   "source": [
    "@input_guardrail\n",
    "async def guardrail_against_name(ctx, agent, message):\n",
    "    result = await Runner.run(guardrail_agent, message, context=ctx.context)\n",
    "    is_name_in_message = result.final_output.is_name_in_message\n",
    "    return GuardrailFunctionOutput(\n",
    "        output_info={\"found_name\": result.final_output},\n",
    "        tripwire_triggered=is_name_in_message\n",
    "    )"
   ],
   "outputs": [],
   "execution_count": 17
  },
  {
   "cell_type": "code",
   "metadata": {
    "ExecuteTime": {
     "end_time": "2025-08-11T05:52:36.136657Z",
     "start_time": "2025-08-11T05:52:34.621816Z"
    }
   },
   "source": [
    "careful_sales_manager = Agent(\n",
    "    name=\"Sales Manager\",\n",
    "    instructions=sales_manager_instructions,\n",
    "    tools=tools,\n",
    "    handoffs=[emailer_agent],\n",
    "    model=\"gpt-4o-mini\",\n",
    "    input_guardrails=[guardrail_against_name]\n",
    ")\n",
    "\n",
    "message = \"Send out a cold sales email addressed to Dear CEO from Alice\"\n",
    "\n",
    "with trace(\"Protected Automated SDR\"):\n",
    "    result = await Runner.run(\n",
    "        careful_sales_manager,\n",
    "        message\n",
    "    )"
   ],
   "outputs": [
    {
     "ename": "InputGuardrailTripwireTriggered",
     "evalue": "Guardrail InputGuardrail triggered tripwire",
     "output_type": "error",
     "traceback": [
      "\u001B[31m---------------------------------------------------------------------------\u001B[39m",
      "\u001B[31mInputGuardrailTripwireTriggered\u001B[39m           Traceback (most recent call last)",
      "\u001B[36mCell\u001B[39m\u001B[36m \u001B[39m\u001B[32mIn[28]\u001B[39m\u001B[32m, line 13\u001B[39m\n\u001B[32m     10\u001B[39m message = \u001B[33m\"\u001B[39m\u001B[33mSend out a cold sales email addressed to Dear CEO from Alice\u001B[39m\u001B[33m\"\u001B[39m\n\u001B[32m     12\u001B[39m \u001B[38;5;28;01mwith\u001B[39;00m trace(\u001B[33m\"\u001B[39m\u001B[33mProtected Automated SDR\u001B[39m\u001B[33m\"\u001B[39m):\n\u001B[32m---> \u001B[39m\u001B[32m13\u001B[39m     result = \u001B[38;5;28;01mawait\u001B[39;00m Runner.run(\n\u001B[32m     14\u001B[39m         careful_sales_manager,\n\u001B[32m     15\u001B[39m         message\n\u001B[32m     16\u001B[39m     )\n",
      "\u001B[36mFile \u001B[39m\u001B[32m~/git/education/agents/agents/.venv/lib/python3.12/site-packages/agents/run.py:199\u001B[39m, in \u001B[36mRunner.run\u001B[39m\u001B[34m(cls, starting_agent, input, context, max_turns, hooks, run_config, previous_response_id)\u001B[39m\n\u001B[32m    172\u001B[39m \u001B[38;5;250m\u001B[39m\u001B[33;03m\"\"\"Run a workflow starting at the given agent. The agent will run in a loop until a final\u001B[39;00m\n\u001B[32m    173\u001B[39m \u001B[33;03moutput is generated. The loop runs like so:\u001B[39;00m\n\u001B[32m    174\u001B[39m \u001B[33;03m1. The agent is invoked with the given input.\u001B[39;00m\n\u001B[32m   (...)\u001B[39m\u001B[32m    196\u001B[39m \u001B[33;03m    agent. Agents may perform handoffs, so we don't know the specific type of the output.\u001B[39;00m\n\u001B[32m    197\u001B[39m \u001B[33;03m\"\"\"\u001B[39;00m\n\u001B[32m    198\u001B[39m runner = DEFAULT_AGENT_RUNNER\n\u001B[32m--> \u001B[39m\u001B[32m199\u001B[39m \u001B[38;5;28;01mreturn\u001B[39;00m \u001B[38;5;28;01mawait\u001B[39;00m runner.run(\n\u001B[32m    200\u001B[39m     starting_agent,\n\u001B[32m    201\u001B[39m     \u001B[38;5;28minput\u001B[39m,\n\u001B[32m    202\u001B[39m     context=context,\n\u001B[32m    203\u001B[39m     max_turns=max_turns,\n\u001B[32m    204\u001B[39m     hooks=hooks,\n\u001B[32m    205\u001B[39m     run_config=run_config,\n\u001B[32m    206\u001B[39m     previous_response_id=previous_response_id,\n\u001B[32m    207\u001B[39m )\n",
      "\u001B[36mFile \u001B[39m\u001B[32m~/git/education/agents/agents/.venv/lib/python3.12/site-packages/agents/run.py:395\u001B[39m, in \u001B[36mAgentRunner.run\u001B[39m\u001B[34m(self, starting_agent, input, **kwargs)\u001B[39m\n\u001B[32m    390\u001B[39m logger.debug(\n\u001B[32m    391\u001B[39m     \u001B[33mf\u001B[39m\u001B[33m\"\u001B[39m\u001B[33mRunning agent \u001B[39m\u001B[38;5;132;01m{\u001B[39;00mcurrent_agent.name\u001B[38;5;132;01m}\u001B[39;00m\u001B[33m (turn \u001B[39m\u001B[38;5;132;01m{\u001B[39;00mcurrent_turn\u001B[38;5;132;01m}\u001B[39;00m\u001B[33m)\u001B[39m\u001B[33m\"\u001B[39m,\n\u001B[32m    392\u001B[39m )\n\u001B[32m    394\u001B[39m \u001B[38;5;28;01mif\u001B[39;00m current_turn == \u001B[32m1\u001B[39m:\n\u001B[32m--> \u001B[39m\u001B[32m395\u001B[39m     input_guardrail_results, turn_result = \u001B[38;5;28;01mawait\u001B[39;00m asyncio.gather(\n\u001B[32m    396\u001B[39m         \u001B[38;5;28mself\u001B[39m._run_input_guardrails(\n\u001B[32m    397\u001B[39m             starting_agent,\n\u001B[32m    398\u001B[39m             starting_agent.input_guardrails\n\u001B[32m    399\u001B[39m             + (run_config.input_guardrails \u001B[38;5;129;01mor\u001B[39;00m []),\n\u001B[32m    400\u001B[39m             copy.deepcopy(\u001B[38;5;28minput\u001B[39m),\n\u001B[32m    401\u001B[39m             context_wrapper,\n\u001B[32m    402\u001B[39m         ),\n\u001B[32m    403\u001B[39m         \u001B[38;5;28mself\u001B[39m._run_single_turn(\n\u001B[32m    404\u001B[39m             agent=current_agent,\n\u001B[32m    405\u001B[39m             all_tools=all_tools,\n\u001B[32m    406\u001B[39m             original_input=original_input,\n\u001B[32m    407\u001B[39m             generated_items=generated_items,\n\u001B[32m    408\u001B[39m             hooks=hooks,\n\u001B[32m    409\u001B[39m             context_wrapper=context_wrapper,\n\u001B[32m    410\u001B[39m             run_config=run_config,\n\u001B[32m    411\u001B[39m             should_run_agent_start_hooks=should_run_agent_start_hooks,\n\u001B[32m    412\u001B[39m             tool_use_tracker=tool_use_tracker,\n\u001B[32m    413\u001B[39m             previous_response_id=previous_response_id,\n\u001B[32m    414\u001B[39m         ),\n\u001B[32m    415\u001B[39m     )\n\u001B[32m    416\u001B[39m \u001B[38;5;28;01melse\u001B[39;00m:\n\u001B[32m    417\u001B[39m     turn_result = \u001B[38;5;28;01mawait\u001B[39;00m \u001B[38;5;28mself\u001B[39m._run_single_turn(\n\u001B[32m    418\u001B[39m         agent=current_agent,\n\u001B[32m    419\u001B[39m         all_tools=all_tools,\n\u001B[32m   (...)\u001B[39m\u001B[32m    427\u001B[39m         previous_response_id=previous_response_id,\n\u001B[32m    428\u001B[39m     )\n",
      "\u001B[36mFile \u001B[39m\u001B[32m~/git/education/agents/agents/.venv/lib/python3.12/site-packages/agents/run.py:1003\u001B[39m, in \u001B[36mAgentRunner._run_input_guardrails\u001B[39m\u001B[34m(cls, agent, guardrails, input, context)\u001B[39m\n\u001B[32m    996\u001B[39m         t.cancel()\n\u001B[32m    997\u001B[39m     _error_tracing.attach_error_to_current_span(\n\u001B[32m    998\u001B[39m         SpanError(\n\u001B[32m    999\u001B[39m             message=\u001B[33m\"\u001B[39m\u001B[33mGuardrail tripwire triggered\u001B[39m\u001B[33m\"\u001B[39m,\n\u001B[32m   1000\u001B[39m             data={\u001B[33m\"\u001B[39m\u001B[33mguardrail\u001B[39m\u001B[33m\"\u001B[39m: result.guardrail.get_name()},\n\u001B[32m   1001\u001B[39m         )\n\u001B[32m   1002\u001B[39m     )\n\u001B[32m-> \u001B[39m\u001B[32m1003\u001B[39m     \u001B[38;5;28;01mraise\u001B[39;00m InputGuardrailTripwireTriggered(result)\n\u001B[32m   1004\u001B[39m \u001B[38;5;28;01melse\u001B[39;00m:\n\u001B[32m   1005\u001B[39m     guardrail_results.append(result)\n",
      "\u001B[31mInputGuardrailTripwireTriggered\u001B[39m: Guardrail InputGuardrail triggered tripwire"
     ]
    }
   ],
   "execution_count": 28
  },
  {
   "cell_type": "markdown",
   "metadata": {},
   "source": [
    "## Check out the trace:\n",
    "\n",
    "https://platform.openai.com/traces"
   ]
  },
  {
   "cell_type": "code",
   "execution_count": null,
   "metadata": {},
   "outputs": [],
   "source": [
    "\n",
    "message = \"Send out a cold sales email addressed to Dear CEO from Head of Business Development\"\n",
    "\n",
    "with trace(\"Protected Automated SDR\"):\n",
    "    result = await Runner.run(careful_sales_manager, message)"
   ]
  },
  {
   "cell_type": "markdown",
   "metadata": {},
   "source": [
    "<table style=\"margin: 0; text-align: left; width:100%\">\n",
    "    <tr>\n",
    "        <td style=\"width: 150px; height: 150px; vertical-align: middle;\">\n",
    "            <img src=\"../assets/exercise.png\" width=\"150\" height=\"150\" style=\"display: block;\" />\n",
    "        </td>\n",
    "        <td>\n",
    "            <h2 style=\"color:#ff7800;\">Exercise</h2>\n",
    "            <span style=\"color:#ff7800;\">• Try different models<br/>• Add more input and output guardrails<br/>• Use structured outputs for the email generation\n",
    "            </span>\n",
    "        </td>\n",
    "    </tr>\n",
    "</table>"
   ]
  },
  {
   "cell_type": "markdown",
   "metadata": {},
   "source": []
  }
 ],
 "metadata": {
  "kernelspec": {
   "display_name": ".venv",
   "language": "python",
   "name": "python3"
  },
  "language_info": {
   "codemirror_mode": {
    "name": "ipython",
    "version": 3
   },
   "file_extension": ".py",
   "mimetype": "text/x-python",
   "name": "python",
   "nbconvert_exporter": "python",
   "pygments_lexer": "ipython3",
   "version": "3.12.9"
  }
 },
 "nbformat": 4,
 "nbformat_minor": 2
}
