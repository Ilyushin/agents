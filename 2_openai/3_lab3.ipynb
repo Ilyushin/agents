{
 "cells": [
  {
   "cell_type": "markdown",
   "metadata": {},
   "source": [
    "## Week 2 Day 3\n",
    "\n",
    "Now we get to more detail:\n",
    "\n",
    "1. Different models\n",
    "\n",
    "2. Structured Outputs\n",
    "\n",
    "3. Guardrails"
   ]
  },
  {
   "cell_type": "code",
   "metadata": {
    "ExecuteTime": {
     "end_time": "2025-08-14T05:41:43.709983Z",
     "start_time": "2025-08-14T05:41:43.707724Z"
    }
   },
   "source": [
    "from dotenv import load_dotenv\n",
    "from openai import AsyncOpenAI\n",
    "from agents import Agent, Runner, trace, function_tool, OpenAIChatCompletionsModel, input_guardrail, \\\n",
    "    GuardrailFunctionOutput\n",
    "from typing import Dict\n",
    "import sendgrid\n",
    "import os\n",
    "from sendgrid.helpers.mail import Mail, Email, To, Content\n",
    "from pydantic import BaseModel"
   ],
   "outputs": [],
   "execution_count": 18
  },
  {
   "cell_type": "code",
   "metadata": {
    "ExecuteTime": {
     "end_time": "2025-08-14T05:41:43.730131Z",
     "start_time": "2025-08-14T05:41:43.726653Z"
    }
   },
   "source": [
    "load_dotenv(override=True)"
   ],
   "outputs": [
    {
     "data": {
      "text/plain": [
       "True"
      ]
     },
     "execution_count": 19,
     "metadata": {},
     "output_type": "execute_result"
    }
   ],
   "execution_count": 19
  },
  {
   "cell_type": "code",
   "metadata": {
    "ExecuteTime": {
     "end_time": "2025-08-14T05:41:43.740375Z",
     "start_time": "2025-08-14T05:41:43.737429Z"
    }
   },
   "source": [
    "openai_api_key = os.getenv('OPENAI_API_KEY')\n",
    "google_api_key = os.getenv('GOOGLE_API_KEY')\n",
    "deepseek_api_key = os.getenv('DEEPSEEK_API_KEY')\n",
    "groq_api_key = os.getenv('GROQ_API_KEY')\n",
    "\n",
    "if openai_api_key:\n",
    "    print(f\"OpenAI API Key exists and begins {openai_api_key[:8]}\")\n",
    "else:\n",
    "    print(\"OpenAI API Key not set\")\n",
    "\n",
    "if google_api_key:\n",
    "    print(f\"Google API Key exists and begins {google_api_key[:2]}\")\n",
    "else:\n",
    "    print(\"Google API Key not set (and this is optional)\")\n",
    "\n",
    "if deepseek_api_key:\n",
    "    print(f\"DeepSeek API Key exists and begins {deepseek_api_key[:3]}\")\n",
    "else:\n",
    "    print(\"DeepSeek API Key not set (and this is optional)\")\n",
    "\n",
    "if groq_api_key:\n",
    "    print(f\"Groq API Key exists and begins {groq_api_key[:4]}\")\n",
    "else:\n",
    "    print(\"Groq API Key not set (and this is optional)\")"
   ],
   "outputs": [
    {
     "name": "stdout",
     "output_type": "stream",
     "text": [
      "OpenAI API Key exists and begins sk-proj-\n",
      "Google API Key not set (and this is optional)\n",
      "DeepSeek API Key exists and begins sk-\n",
      "Groq API Key not set (and this is optional)\n"
     ]
    }
   ],
   "execution_count": 20
  },
  {
   "cell_type": "code",
   "metadata": {
    "ExecuteTime": {
     "end_time": "2025-08-14T05:41:43.747319Z",
     "start_time": "2025-08-14T05:41:43.745629Z"
    }
   },
   "source": [
    "instructions1 = \"You are a sales agent working for ComplAI, \\\n",
    "a company that provides a SaaS tool for ensuring SOC2 compliance and preparing for audits, powered by AI. \\\n",
    "You write professional, serious cold emails.\"\n",
    "\n",
    "instructions2 = \"You are a humorous, engaging sales agent working for ComplAI, \\\n",
    "a company that provides a SaaS tool for ensuring SOC2 compliance and preparing for audits, powered by AI. \\\n",
    "You write witty, engaging cold emails that are likely to get a response.\"\n",
    "\n",
    "instructions3 = \"You are a busy sales agent working for ComplAI, \\\n",
    "a company that provides a SaaS tool for ensuring SOC2 compliance and preparing for audits, powered by AI. \\\n",
    "You write concise, to the point cold emails.\""
   ],
   "outputs": [],
   "execution_count": 21
  },
  {
   "cell_type": "markdown",
   "metadata": {},
   "source": [
    "### It's easy to use any models with OpenAI compatible endpoints"
   ]
  },
  {
   "cell_type": "code",
   "metadata": {
    "ExecuteTime": {
     "end_time": "2025-08-14T05:41:43.754561Z",
     "start_time": "2025-08-14T05:41:43.752794Z"
    }
   },
   "source": [
    "GEMINI_BASE_URL = \"https://generativelanguage.googleapis.com/v1beta/openai/\"\n",
    "DEEPSEEK_BASE_URL = \"https://api.deepseek.com/v1\"\n",
    "GROQ_BASE_URL = \"https://api.groq.com/openai/v1\"\n"
   ],
   "outputs": [],
   "execution_count": 22
  },
  {
   "metadata": {
    "ExecuteTime": {
     "end_time": "2025-08-14T05:41:43.759091Z",
     "start_time": "2025-08-14T05:41:43.757314Z"
    }
   },
   "cell_type": "code",
   "source": [
    "OLLAMA_URL_1 = os.getenv('OLLAMA_URL_1')\n",
    "OLLAMA_URL_2 = os.getenv('OLLAMA_URL_2')\n",
    "OLLAMA_URL_3 = os.getenv('OLLAMA_URL_3')\n",
    "\n",
    "OLLAMA_MODEL_GPT_OSS = os.getenv('OLLAMA_MODEL_GPT_OSS')\n",
    "OLLAMA_MODEL_DEEPSEEK = os.getenv('OLLAMA_MODEL_DEEPSEEK')\n",
    "OLLAMA_MODEL_LLAMA = os.getenv('OLLAMA_MODEL_LLAMA')\n"
   ],
   "outputs": [],
   "execution_count": 23
  },
  {
   "cell_type": "code",
   "metadata": {
    "ExecuteTime": {
     "end_time": "2025-08-14T05:41:49.369971Z",
     "start_time": "2025-08-14T05:41:49.317200Z"
    }
   },
   "source": [
    "# deepseek_client = AsyncOpenAI(base_url=DEEPSEEK_BASE_URL, api_key=deepseek_api_key)\n",
    "# gemini_client = AsyncOpenAI(base_url=GEMINI_BASE_URL, api_key=google_api_key)\n",
    "# groq_client = AsyncOpenAI(base_url=GROQ_BASE_URL, api_key=groq_api_key)\n",
    "\n",
    "gpt_client = AsyncOpenAI(\n",
    "    base_url=OLLAMA_URL_1,\n",
    "    api_key='ollama'\n",
    ")\n",
    "deepseek_client = AsyncOpenAI(\n",
    "    base_url=OLLAMA_URL_2,\n",
    "    api_key='ollama'\n",
    ")\n",
    "llama_client = AsyncOpenAI(\n",
    "    base_url=OLLAMA_URL_3,\n",
    "    api_key='ollama'\n",
    ")\n",
    "\n",
    "\n",
    "gpt_model = OpenAIChatCompletionsModel(\n",
    "    model=OLLAMA_MODEL_GPT_OSS,\n",
    "    openai_client=gpt_client\n",
    ")\n",
    "deepseek_model = OpenAIChatCompletionsModel(\n",
    "    model=OLLAMA_MODEL_DEEPSEEK,\n",
    "    openai_client=deepseek_client\n",
    ")\n",
    "llama3_3_model = OpenAIChatCompletionsModel(\n",
    "    model=OLLAMA_MODEL_LLAMA,\n",
    "    openai_client=llama_client\n",
    ")\n"
   ],
   "outputs": [],
   "execution_count": 24
  },
  {
   "cell_type": "code",
   "metadata": {
    "ExecuteTime": {
     "end_time": "2025-08-14T05:42:06.745053Z",
     "start_time": "2025-08-14T05:42:06.742644Z"
    }
   },
   "source": [
    "sales_agent1 = Agent(\n",
    "    name=\"DeepSeek Sales Agent\",\n",
    "    instructions=instructions1,\n",
    "    model=deepseek_model\n",
    ")\n",
    "sales_agent2 = Agent(\n",
    "    name=\"GPT Sales Agent\",\n",
    "    instructions=instructions2,\n",
    "    model=gpt_model\n",
    ")\n",
    "sales_agent3 = Agent(\n",
    "    name=\"Llama3.3 Sales Agent\",\n",
    "    instructions=instructions3,\n",
    "    model=llama3_3_model\n",
    ")\n"
   ],
   "outputs": [],
   "execution_count": 25
  },
  {
   "cell_type": "code",
   "metadata": {
    "ExecuteTime": {
     "end_time": "2025-08-14T05:42:33.652381Z",
     "start_time": "2025-08-14T05:42:33.648308Z"
    }
   },
   "source": [
    "description = \"Write a cold sales email\"\n",
    "\n",
    "tool1 = sales_agent1.as_tool(\n",
    "    tool_name=\"sales_agent1\",\n",
    "    tool_description=description\n",
    ")\n",
    "tool2 = sales_agent2.as_tool(\n",
    "    tool_name=\"sales_agent2\",\n",
    "    tool_description=description\n",
    ")\n",
    "tool3 = sales_agent3.as_tool(\n",
    "    tool_name=\"sales_agent3\",\n",
    "    tool_description=description\n",
    ")\n"
   ],
   "outputs": [],
   "execution_count": 27
  },
  {
   "cell_type": "code",
   "metadata": {
    "ExecuteTime": {
     "end_time": "2025-08-14T05:42:53.353414Z",
     "start_time": "2025-08-14T05:42:53.349762Z"
    }
   },
   "source": [
    "@function_tool\n",
    "def send_html_email(subject: str, html_body: str) -> Dict[str, str]:\n",
    "    \"\"\" Send out an email with the given subject and HTML body to all sales prospects \"\"\"\n",
    "    sg = sendgrid.SendGridAPIClient(api_key=os.environ.get('SENDGRID_API_KEY'))\n",
    "    from_email = Email(\"ed@edwarddonner.com\")  # Change to your verified sender\n",
    "    to_email = To(\"ed.donner@gmail.com\")  # Change to your recipient\n",
    "    content = Content(\"text/html\", html_body)\n",
    "    mail = Mail(from_email, to_email, subject, content).get()\n",
    "    sg.client.mail.send.post(request_body=mail)\n",
    "    return {\"status\": \"success\"}\n"
   ],
   "outputs": [],
   "execution_count": 28
  },
  {
   "cell_type": "code",
   "metadata": {
    "ExecuteTime": {
     "end_time": "2025-08-14T05:43:19.869792Z",
     "start_time": "2025-08-14T05:43:19.866087Z"
    }
   },
   "source": [
    "subject_instructions = \"You can write a subject for a cold sales email. \\\n",
    "You are given a message and you need to write a subject for an email that is likely to get a response.\"\n",
    "\n",
    "html_instructions = \"You can convert a text email body to an HTML email body. \\\n",
    "You are given a text email body which might have some markdown \\\n",
    "and you need to convert it to an HTML email body with simple, clear, compelling layout and design.\"\n",
    "\n",
    "subject_writer = Agent(\n",
    "    name=\"Email subject writer\",\n",
    "    instructions=subject_instructions,\n",
    "    model=\"gpt-4o-mini\"\n",
    ")\n",
    "subject_tool = subject_writer.as_tool(\n",
    "    tool_name=\"subject_writer\",\n",
    "    tool_description=\"Write a subject for a cold sales email\"\n",
    ")\n",
    "\n",
    "html_converter = Agent(\n",
    "    name=\"HTML email body converter\",\n",
    "    instructions=html_instructions,\n",
    "    model=\"gpt-4o-mini\"\n",
    ")\n",
    "html_tool = html_converter.as_tool(\n",
    "    tool_name=\"html_converter\",\n",
    "    tool_description=\"Convert a text email body to an HTML email body\"\n",
    ")\n"
   ],
   "outputs": [],
   "execution_count": 29
  },
  {
   "cell_type": "code",
   "metadata": {
    "ExecuteTime": {
     "end_time": "2025-08-14T05:43:22.469269Z",
     "start_time": "2025-08-14T05:43:22.466816Z"
    }
   },
   "source": "email_tools = [subject_tool, html_tool, send_html_email]\n",
   "outputs": [],
   "execution_count": 30
  },
  {
   "cell_type": "code",
   "metadata": {
    "ExecuteTime": {
     "end_time": "2025-08-14T05:43:41.782925Z",
     "start_time": "2025-08-14T05:43:41.780426Z"
    }
   },
   "source": [
    "instructions = \"You are an email formatter and sender. You receive the body of an email to be sent. \\\n",
    "You first use the subject_writer tool to write a subject for the email, then use the html_converter tool to convert the body to HTML. \\\n",
    "Finally, you use the send_html_email tool to send the email with the subject and HTML body.\"\n",
    "\n",
    "emailer_agent = Agent(\n",
    "    name=\"Email Manager\",\n",
    "    instructions=instructions,\n",
    "    tools=email_tools,\n",
    "    model=\"gpt-4o-mini\",\n",
    "    handoff_description=\"Convert an email to HTML and send it\"\n",
    ")\n"
   ],
   "outputs": [],
   "execution_count": 31
  },
  {
   "cell_type": "code",
   "metadata": {
    "ExecuteTime": {
     "end_time": "2025-08-14T05:43:48.378813Z",
     "start_time": "2025-08-14T05:43:48.376550Z"
    }
   },
   "source": [
    "tools = [tool1, tool2, tool3]\n",
    "handoffs = [emailer_agent]\n"
   ],
   "outputs": [],
   "execution_count": 32
  },
  {
   "cell_type": "code",
   "metadata": {
    "ExecuteTime": {
     "end_time": "2025-08-14T05:56:06.573587Z",
     "start_time": "2025-08-14T05:51:40.659705Z"
    }
   },
   "source": [
    "sales_manager_instructions = \"\"\"\n",
    "You are a Sales Manager at ComplAI. Your goal is to find the single best cold sales email using the sales_agent tools.\n",
    " \n",
    "Follow these steps carefully:\n",
    "1. Generate Drafts: Use all three sales_agent tools to generate three different email drafts. Do not proceed until all three drafts are ready.\n",
    " \n",
    "2. Evaluate and Select: Review the drafts and choose the single best email using your judgment of which one is most effective.\n",
    "You can use the tools multiple times if you're not satisfied with the results from the first try.\n",
    " \n",
    "3. Handoff for Sending: Pass ONLY the winning email draft to the 'Email Manager' agent. The Email Manager will take care of formatting and sending.\n",
    " \n",
    "Crucial Rules:\n",
    "- You must use the sales agent tools to generate the drafts — do not write them yourself.\n",
    "- You must hand off exactly ONE email to the Email Manager — never more than one.\n",
    "\"\"\"\n",
    "\n",
    "sales_manager = Agent(\n",
    "    name=\"Sales Manager\",\n",
    "    instructions=sales_manager_instructions,\n",
    "    tools=tools,\n",
    "    handoffs=handoffs,\n",
    "    model=\"gpt-4o-mini\"\n",
    ")\n",
    "\n",
    "message = \"Send out a cold sales email addressed to Dear CEO from Alice\"\n",
    "\n",
    "with trace(\"Automated SDR\"):\n",
    "    result = await Runner.run(sales_manager, message)"
   ],
   "outputs": [],
   "execution_count": 34
  },
  {
   "cell_type": "markdown",
   "metadata": {},
   "source": [
    "## Check out the trace:\n",
    "\n",
    "https://platform.openai.com/traces"
   ]
  },
  {
   "cell_type": "code",
   "metadata": {
    "ExecuteTime": {
     "end_time": "2025-08-14T05:56:06.598357Z",
     "start_time": "2025-08-14T05:56:06.594540Z"
    }
   },
   "source": [
    "class NameCheckOutput(BaseModel):\n",
    "    is_name_in_message: bool\n",
    "    name: str\n",
    "\n",
    "\n",
    "guardrail_agent = Agent(\n",
    "    name=\"Name check\",\n",
    "    instructions=\"Check if the user is including someone's personal name in what they want you to do.\",\n",
    "    output_type=NameCheckOutput,\n",
    "    model=\"gpt-4o-mini\"\n",
    ")"
   ],
   "outputs": [],
   "execution_count": 35
  },
  {
   "cell_type": "code",
   "metadata": {
    "ExecuteTime": {
     "end_time": "2025-08-14T05:56:06.621013Z",
     "start_time": "2025-08-14T05:56:06.618273Z"
    }
   },
   "source": [
    "@input_guardrail\n",
    "async def guardrail_against_name(ctx, agent, message):\n",
    "    result = await Runner.run(\n",
    "        guardrail_agent,\n",
    "        message,\n",
    "        context=ctx.context\n",
    "    )\n",
    "    is_name_in_message = result.final_output.is_name_in_message\n",
    "    return GuardrailFunctionOutput(\n",
    "        output_info={\"found_name\": result.final_output},\n",
    "        tripwire_triggered=is_name_in_message\n",
    "    )"
   ],
   "outputs": [],
   "execution_count": 36
  },
  {
   "cell_type": "code",
   "metadata": {
    "ExecuteTime": {
     "end_time": "2025-08-14T05:58:09.603831Z",
     "start_time": "2025-08-14T05:57:03.979448Z"
    }
   },
   "source": [
    "careful_sales_manager = Agent(\n",
    "    name=\"Sales Manager\",\n",
    "    instructions=sales_manager_instructions,\n",
    "    tools=tools,\n",
    "    handoffs=[emailer_agent],\n",
    "    model=\"gpt-4o-mini\",\n",
    "    input_guardrails=[guardrail_against_name]\n",
    ")\n",
    "\n",
    "message = \"Send out a cold sales email addressed to Dear CEO from\"\n",
    "\n",
    "with trace(\"Protected Automated SDR\"):\n",
    "    result = await Runner.run(\n",
    "        careful_sales_manager,\n",
    "        message\n",
    "    )"
   ],
   "outputs": [],
   "execution_count": 38
  },
  {
   "cell_type": "markdown",
   "metadata": {},
   "source": [
    "## Check out the trace:\n",
    "\n",
    "https://platform.openai.com/traces"
   ]
  },
  {
   "cell_type": "code",
   "metadata": {
    "ExecuteTime": {
     "end_time": "2025-08-14T06:00:35.761949Z",
     "start_time": "2025-08-14T05:58:09.618657Z"
    }
   },
   "source": [
    "message = \"Send out a cold sales email addressed to Dear CEO from Head of Business Development\"\n",
    "\n",
    "with trace(\"Protected Automated SDR\"):\n",
    "    result = await Runner.run(careful_sales_manager, message)\n"
   ],
   "outputs": [],
   "execution_count": 39
  },
  {
   "cell_type": "markdown",
   "metadata": {},
   "source": [
    "<table style=\"margin: 0; text-align: left; width:100%\">\n",
    "    <tr>\n",
    "        <td style=\"width: 150px; height: 150px; vertical-align: middle;\">\n",
    "            <img src=\"../assets/exercise.png\" width=\"150\" height=\"150\" style=\"display: block;\" />\n",
    "        </td>\n",
    "        <td>\n",
    "            <h2 style=\"color:#ff7800;\">Exercise</h2>\n",
    "            <span style=\"color:#ff7800;\">• Try different models<br/>• Add more input and output guardrails<br/>• Use structured outputs for the email generation\n",
    "            </span>\n",
    "        </td>\n",
    "    </tr>\n",
    "</table>"
   ]
  },
  {
   "cell_type": "markdown",
   "metadata": {},
   "source": []
  }
 ],
 "metadata": {
  "kernelspec": {
   "display_name": ".venv",
   "language": "python",
   "name": "python3"
  },
  "language_info": {
   "codemirror_mode": {
    "name": "ipython",
    "version": 3
   },
   "file_extension": ".py",
   "mimetype": "text/x-python",
   "name": "python",
   "nbconvert_exporter": "python",
   "pygments_lexer": "ipython3",
   "version": "3.12.9"
  }
 },
 "nbformat": 4,
 "nbformat_minor": 2
}
