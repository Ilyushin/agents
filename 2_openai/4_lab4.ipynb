{
 "cells": [
  {
   "cell_type": "markdown",
   "metadata": {},
   "source": [
    "## Deep Research\n",
    "\n",
    "One of the classic cross-business Agentic use cases! This is huge."
   ]
  },
  {
   "cell_type": "markdown",
   "metadata": {},
   "source": [
    "<table style=\"margin: 0; text-align: left; width:100%\">\n",
    "    <tr>\n",
    "        <td style=\"width: 150px; height: 150px; vertical-align: middle;\">\n",
    "            <img src=\"../assets/business.png\" width=\"150\" height=\"150\" style=\"display: block;\" />\n",
    "        </td>\n",
    "        <td>\n",
    "            <h2 style=\"color:#00bfff;\">Commercial implications</h2>\n",
    "            <span style=\"color:#00bfff;\">A Deep Research agent is broadly applicable to any business area, and to your own day-to-day activities. You can make use of this yourself!\n",
    "            </span>\n",
    "        </td>\n",
    "    </tr>\n",
    "</table>"
   ]
  },
  {
   "cell_type": "code",
   "metadata": {
    "ExecuteTime": {
     "end_time": "2025-08-14T06:02:59.466209Z",
     "start_time": "2025-08-14T06:02:58.825311Z"
    }
   },
   "source": [
    "from agents import Agent, WebSearchTool, trace, Runner, gen_trace_id, function_tool\n",
    "from agents.model_settings import ModelSettings\n",
    "from pydantic import BaseModel, Field\n",
    "from dotenv import load_dotenv\n",
    "import asyncio\n",
    "import sendgrid\n",
    "import os\n",
    "from sendgrid.helpers.mail import Mail, Email, To, Content\n",
    "from typing import Dict\n",
    "from IPython.display import display, Markdown\n"
   ],
   "outputs": [],
   "execution_count": 1
  },
  {
   "cell_type": "code",
   "metadata": {
    "ExecuteTime": {
     "end_time": "2025-08-14T06:03:01.362012Z",
     "start_time": "2025-08-14T06:03:01.356458Z"
    }
   },
   "source": "load_dotenv(override=True)\n",
   "outputs": [
    {
     "data": {
      "text/plain": [
       "True"
      ]
     },
     "execution_count": 2,
     "metadata": {},
     "output_type": "execute_result"
    }
   ],
   "execution_count": 2
  },
  {
   "cell_type": "markdown",
   "metadata": {},
   "source": [
    "## OpenAI Hosted Tools\n",
    "\n",
    "OpenAI Agents SDK includes the following hosted tools:\n",
    "\n",
    "The `WebSearchTool` lets an agent search the web.  \n",
    "The `FileSearchTool` allows retrieving information from your OpenAI Vector Stores.  \n",
    "The `ComputerTool` allows automating computer use tasks like taking screenshots and clicking.\n",
    "\n",
    "### Important note - API charge of WebSearchTool\n",
    "\n",
    "This is costing me 2.5 cents per call for OpenAI WebSearchTool. That can add up to $2-$3 for the next 2 labs. We'll use free and low cost Search tools with other platforms, so feel free to skip running this if the cost is a concern. Also student Christian W. pointed out that OpenAI can sometimes charge for multiple searches for a single call, so it could sometimes cost more than 2.5 cents per call.\n",
    "\n",
    "Costs are here: https://platform.openai.com/docs/pricing#web-search"
   ]
  },
  {
   "cell_type": "code",
   "metadata": {
    "ExecuteTime": {
     "end_time": "2025-08-14T06:08:39.478890Z",
     "start_time": "2025-08-14T06:08:39.476204Z"
    }
   },
   "source": [
    "INSTRUCTIONS = \"You are a research assistant. Given a search term, you search the web for that term and \\\n",
    "produce a concise summary of the results. The summary must 2-3 paragraphs and less than 300 \\\n",
    "words. Capture the main points. Write succintly, no need to have complete sentences or good \\\n",
    "grammar. This will be consumed by someone synthesizing a report, so it's vital you capture the \\\n",
    "essence and ignore any fluff. Do not include any additional commentary other than the summary itself.\"\n",
    "\n",
    "search_agent = Agent(\n",
    "    name=\"Search agent\",\n",
    "    instructions=INSTRUCTIONS,\n",
    "    tools=[WebSearchTool(search_context_size=\"low\")],\n",
    "    model=\"gpt-4o-mini\",\n",
    "    model_settings=ModelSettings(tool_choice=\"required\"),\n",
    ")\n"
   ],
   "outputs": [],
   "execution_count": 3
  },
  {
   "cell_type": "code",
   "metadata": {
    "ExecuteTime": {
     "end_time": "2025-08-14T06:08:54.746190Z",
     "start_time": "2025-08-14T06:08:47.335522Z"
    }
   },
   "source": [
    "message = \"Latest AI Agent frameworks in 2025\"\n",
    "\n",
    "with trace(\"Search\"):\n",
    "    result = await Runner.run(search_agent, message)\n",
    "\n",
    "display(Markdown(result.final_output))\n"
   ],
   "outputs": [
    {
     "data": {
      "text/plain": [
       "<IPython.core.display.Markdown object>"
      ],
      "text/markdown": "In 2025, several AI agent frameworks have emerged, each offering unique capabilities for developing intelligent, autonomous systems. LangChain is a prominent open-source framework that enables developers to build applications powered by large language models (LLMs). Its modular design supports integration with various LLMs, prompt templates, agent modules for task automation, memory systems for context retention, and dynamic retrieval components for real-time data access. This versatility makes LangChain suitable for applications such as conversational agents, document analysis, and code generation. ([dev.to](https://dev.to/surgedatalab/best-5-frameworks-for-agentic-ai-in-2025-enabling-next-gen-intelligent-multi-agent-systems-40ce?utm_source=openai))\n\nAnother notable framework is LangGraph, an extension of LangChain that focuses on creating stateful, graph-based AI agent systems. It employs a graph-based approach to define workflows of prompts and agent interactions, offering explicit control over information flow and enabling branching and debugging of complex agent behaviors. LangGraph is particularly effective for applications requiring long-term context maintenance and potential human intervention, such as complex customer service flows and guided decision-making systems. ([radarmagazine.com](https://www.radarmagazine.com/top-5-ai-agent-frameworks-it-executives-should-be-watching-in-2025/?utm_source=openai))\n\nAutoGen, developed by Microsoft, specializes in orchestrating multiple AI agents to form autonomous, event-driven systems capable of handling complex, multi-agent tasks seamlessly. It is tightly integrated with Microsoft's Semantic Kernel and Azure services, making it suitable for enterprise-level applications needing event-driven workflows, such as customer service automation. ([linkedin.com](https://www.linkedin.com/pulse/ai-agent-frameworks-june-2025-comprehensive-overview-chadi-abi-fadel-wcu5c?utm_source=openai))\n\nCrewAI adopts a role-based agent collaboration approach, facilitating the creation of specialized agents that collaborate on complex projects akin to a team environment. It offers dynamic task planning, real-time performance monitoring, and orchestration of a variety of agents as distinct workers, making it ideal for complex projects requiring teamwork among agents, such as software development or project management. ([linkedin.com](https://www.linkedin.com/pulse/ai-agent-frameworks-june-2025-comprehensive-overview-chadi-abi-fadel-wcu5c?utm_source=openai))\n\nEliza is an open-source, Web3-friendly AI agent operating system that seamlessly integrates with Web3 applications, enabling the deployment of decentralized applications. It emphasizes user control, with all aspects being regular TypeScript programs, and integrates with Web3 technologies like blockchain data and smart contracts. ([arxiv.org](https://arxiv.org/abs/2501.06781?utm_source=openai))\n\nAgent Lightning is a flexible and extensible framework that enables reinforcement learning-based training of LLMs for any AI agent. It achieves complete decoupling between agent execution and training, allowing seamless integration with existing agents developed via diverse methods, with almost zero code modifications. This framework is suitable for real-world agent training and deployment, demonstrating stable, continuous improvements across various tasks. ([arxiv.org](https://arxiv.org/abs/2508.03680?utm_source=openai))\n\nAutoAgent is a fully-automated, zero-code framework for LLM agents, enabling users to create and deploy LLM agents through natural language alone. It comprises components like Agentic System Utilities, an LLM-powered Actionable Engine, a Self-Managing File System, and a Self-Play Agent Customization module, facilitating efficient and dynamic creation and modification of tools, agents, and workflows without coding requirements. ([arxiv.org](https://arxiv.org/abs/2502.05957?utm_source=openai))\n\nThese frameworks represent the forefront of AI agent development in 2025, each contributing to the advancement of intelligent, autonomous systems across various domains. "
     },
     "metadata": {},
     "output_type": "display_data"
    }
   ],
   "execution_count": 4
  },
  {
   "cell_type": "markdown",
   "metadata": {},
   "source": [
    "### As always, take a look at the trace\n",
    "\n",
    "https://platform.openai.com/traces"
   ]
  },
  {
   "cell_type": "markdown",
   "metadata": {},
   "source": [
    "### We will now use Structured Outputs, and include a description of the fields"
   ]
  },
  {
   "cell_type": "code",
   "metadata": {
    "ExecuteTime": {
     "end_time": "2025-08-14T06:17:20.466506Z",
     "start_time": "2025-08-14T06:17:20.462106Z"
    }
   },
   "source": [
    "# See note above about cost of WebSearchTool\n",
    "\n",
    "HOW_MANY_SEARCHES = 3\n",
    "\n",
    "INSTRUCTIONS = f\"You are a helpful research assistant. Given a query, come up with a set of web searches \\\n",
    "to perform to best answer the query. Output {HOW_MANY_SEARCHES} terms to query for.\"\n",
    "\n",
    "# Use Pydantic to define the Schema of our response - this is known as \"Structured Outputs\"\n",
    "# With massive thanks to student Wes C. for discovering and fixing a nasty bug with this!\n",
    "\n",
    "class WebSearchItem(BaseModel):\n",
    "    reason: str = Field(\n",
    "        description=\"Your reasoning for why this search is important to the query.\"\n",
    "    )\n",
    "\n",
    "    query: str = Field(\n",
    "        description=\"The search term to use for the web search.\"\n",
    "    )\n",
    "\n",
    "\n",
    "class WebSearchPlan(BaseModel):\n",
    "    searches: list[WebSearchItem] = Field(\n",
    "        description=\"A list of web searches to perform to best answer the query.\"\n",
    "    )\n",
    "\n",
    "\n",
    "planner_agent = Agent(\n",
    "    name=\"PlannerAgent\",\n",
    "    instructions=INSTRUCTIONS,\n",
    "    model=\"gpt-4o-mini\",\n",
    "    output_type=WebSearchPlan,\n",
    ")\n"
   ],
   "outputs": [],
   "execution_count": 5
  },
  {
   "cell_type": "code",
   "metadata": {
    "ExecuteTime": {
     "end_time": "2025-08-14T06:17:35.098853Z",
     "start_time": "2025-08-14T06:17:32.570115Z"
    }
   },
   "source": [
    "\n",
    "message = \"Latest AI Agent frameworks in 2025\"\n",
    "\n",
    "with trace(\"Search\"):\n",
    "    result = await Runner.run(planner_agent, message)\n",
    "    print(result.final_output)\n"
   ],
   "outputs": [
    {
     "name": "stdout",
     "output_type": "stream",
     "text": [
      "searches=[WebSearchItem(reason='To find updated information on popular AI agent frameworks released or gaining traction in 2025.', query='latest AI agent frameworks 2025'), WebSearchItem(reason='To explore articles, blogs, and research papers discussing advancements and trends in AI agent technologies in 2025.', query='AI agent technology trends 2025'), WebSearchItem(reason='To identify key features and comparisons of the leading AI agent frameworks available in 2025.', query='best AI agent frameworks comparison 2025')]\n"
     ]
    }
   ],
   "execution_count": 6
  },
  {
   "cell_type": "code",
   "metadata": {
    "ExecuteTime": {
     "end_time": "2025-08-14T06:18:26.291329Z",
     "start_time": "2025-08-14T06:18:26.287724Z"
    }
   },
   "source": [
    "@function_tool\n",
    "def send_email(subject: str, html_body: str) -> Dict[str, str]:\n",
    "    \"\"\" Send out an email with the given subject and HTML body \"\"\"\n",
    "    sg = sendgrid.SendGridAPIClient(api_key=os.environ.get('SENDGRID_API_KEY'))\n",
    "    from_email = Email(\"ed@edwarddonner.com\") # Change this to your verified email\n",
    "    to_email = To(\"ed.donner@gmail.com\") # Change this to your email\n",
    "    content = Content(\"text/html\", html_body)\n",
    "    mail = Mail(from_email, to_email, subject, content).get()\n",
    "    response = sg.client.mail.send.post(request_body=mail)\n",
    "    return {\"status\": \"success\"}"
   ],
   "outputs": [],
   "execution_count": 7
  },
  {
   "cell_type": "code",
   "metadata": {
    "ExecuteTime": {
     "end_time": "2025-08-14T06:18:28.562922Z",
     "start_time": "2025-08-14T06:18:28.559723Z"
    }
   },
   "source": [
    "send_email"
   ],
   "outputs": [
    {
     "data": {
      "text/plain": [
       "FunctionTool(name='send_email', description='Send out an email with the given subject and HTML body', params_json_schema={'properties': {'subject': {'title': 'Subject', 'type': 'string'}, 'html_body': {'title': 'Html Body', 'type': 'string'}}, 'required': ['subject', 'html_body'], 'title': 'send_email_args', 'type': 'object', 'additionalProperties': False}, on_invoke_tool=<function function_tool.<locals>._create_function_tool.<locals>._on_invoke_tool at 0x114ddf7e0>, strict_json_schema=True, is_enabled=True)"
      ]
     },
     "execution_count": 8,
     "metadata": {},
     "output_type": "execute_result"
    }
   ],
   "execution_count": 8
  },
  {
   "cell_type": "code",
   "metadata": {
    "ExecuteTime": {
     "end_time": "2025-08-14T06:18:34.773742Z",
     "start_time": "2025-08-14T06:18:34.771086Z"
    }
   },
   "source": [
    "INSTRUCTIONS = \"\"\"You are able to send a nicely formatted HTML email based on a detailed report.\n",
    "You will be provided with a detailed report. You should use your tool to send one email, providing the \n",
    "report converted into clean, well presented HTML with an appropriate subject line.\"\"\"\n",
    "\n",
    "email_agent = Agent(\n",
    "    name=\"Email agent\",\n",
    "    instructions=INSTRUCTIONS,\n",
    "    tools=[send_email],\n",
    "    model=\"gpt-4o-mini\",\n",
    ")\n",
    "\n"
   ],
   "outputs": [],
   "execution_count": 9
  },
  {
   "cell_type": "code",
   "metadata": {
    "ExecuteTime": {
     "end_time": "2025-08-14T06:22:50.510857Z",
     "start_time": "2025-08-14T06:22:50.506378Z"
    }
   },
   "source": [
    "INSTRUCTIONS = (\n",
    "    \"You are a senior researcher tasked with writing a cohesive report for a research query. \"\n",
    "    \"You will be provided with the original query, and some initial research done by a research assistant.\\n\"\n",
    "    \"You should first come up with an outline for the report that describes the structure and \"\n",
    "    \"flow of the report. Then, generate the report and return that as your final output.\\n\"\n",
    "    \"The final output should be in markdown format, and it should be lengthy and detailed. Aim \"\n",
    "    \"for 5-10 pages of content, at least 1000 words.\"\n",
    ")\n",
    "\n",
    "\n",
    "class ReportData(BaseModel):\n",
    "    short_summary: str = Field(\n",
    "        description=\"A short 2-3 sentence summary of the findings.\"\n",
    "    )\n",
    "\n",
    "    markdown_report: str = Field(\n",
    "        description=\"The final report\"\n",
    "    )\n",
    "\n",
    "    follow_up_questions: list[str] = Field(\n",
    "        description=\"Suggested topics to research further\"\n",
    "    )\n",
    "\n",
    "\n",
    "writer_agent = Agent(\n",
    "    name=\"WriterAgent\",\n",
    "    instructions=INSTRUCTIONS,\n",
    "    model=\"gpt-4o-mini\",\n",
    "    output_type=ReportData,\n",
    ")"
   ],
   "outputs": [],
   "execution_count": 11
  },
  {
   "cell_type": "markdown",
   "metadata": {},
   "source": [
    "### The next 3 functions will plan and execute the search, using planner_agent and search_agent"
   ]
  },
  {
   "cell_type": "code",
   "metadata": {
    "ExecuteTime": {
     "end_time": "2025-08-15T05:57:37.807896Z",
     "start_time": "2025-08-15T05:57:37.803816Z"
    }
   },
   "source": [
    "async def plan_searches(query: str):\n",
    "    \"\"\" Use the planner_agent to plan which searches to run for the query \"\"\"\n",
    "    print(\"Planning searches...\")\n",
    "    result = await Runner.run(\n",
    "        planner_agent, f\"Query: {query}\"\n",
    "    )\n",
    "    print(f\"Will perform {len(result.final_output.searches)} searches\")\n",
    "    return result.final_output\n",
    "\n",
    "async def perform_searches(search_plan: WebSearchPlan):\n",
    "    \"\"\" Call search() for each item in the search plan \"\"\"\n",
    "    print(\"Searching...\")\n",
    "    tasks = [asyncio.create_task(search(item)) for item in search_plan.searches]\n",
    "    results = await asyncio.gather(*tasks)\n",
    "    print(\"Finished searching\")\n",
    "    return results\n",
    "\n",
    "async def search(item: WebSearchItem):\n",
    "    \"\"\" Use the search agent to run a web search for each item in the search plan \"\"\"\n",
    "    input = f\"Search term: {item.query}\\nReason for searching: {item.reason}\"\n",
    "    result = await Runner.run(search_agent, input)\n",
    "    return result.final_output"
   ],
   "outputs": [],
   "execution_count": 12
  },
  {
   "cell_type": "markdown",
   "metadata": {},
   "source": [
    "### The next 2 functions write a report and email it"
   ]
  },
  {
   "cell_type": "code",
   "metadata": {
    "ExecuteTime": {
     "end_time": "2025-08-15T05:57:40.496325Z",
     "start_time": "2025-08-15T05:57:40.493041Z"
    }
   },
   "source": [
    "async def write_report(query: str, search_results: list[str]):\n",
    "    \"\"\" Use the writer agent to write a report based on the search results\"\"\"\n",
    "    print(\"Thinking about report...\")\n",
    "    input = f\"Original query: {query}\\nSummarized search results: {search_results}\"\n",
    "    result = await Runner.run(writer_agent, input)\n",
    "    print(\"Finished writing report\")\n",
    "    return result.final_output\n",
    "\n",
    "async def send_email(report: ReportData):\n",
    "    \"\"\" Use the email agent to send an email with the report \"\"\"\n",
    "    print(\"Writing email...\")\n",
    "    result = await Runner.run(email_agent, report.markdown_report)\n",
    "    print(\"Email sent\")\n",
    "    return report"
   ],
   "outputs": [],
   "execution_count": 13
  },
  {
   "cell_type": "markdown",
   "metadata": {},
   "source": [
    "### Showtime!"
   ]
  },
  {
   "cell_type": "code",
   "metadata": {
    "ExecuteTime": {
     "end_time": "2025-08-15T06:00:29.358318Z",
     "start_time": "2025-08-15T05:59:46.618473Z"
    }
   },
   "source": [
    "query =\"Latest AI Agent frameworks in 2025\"\n",
    "\n",
    "with trace(\"Research trace\"):\n",
    "    print(\"Starting research...\")\n",
    "    search_plan = await plan_searches(query)\n",
    "    search_results = await perform_searches(search_plan)\n",
    "    report = await write_report(query, search_results)\n",
    "    print(report)\n",
    "    # await send_email(report)\n",
    "    print(\"Hooray!\")\n",
    "\n",
    "\n"
   ],
   "outputs": [
    {
     "name": "stdout",
     "output_type": "stream",
     "text": [
      "Starting research...\n",
      "Planning searches...\n",
      "Will perform 3 searches\n",
      "Searching...\n",
      "Finished searching\n",
      "Thinking about report...\n",
      "Finished writing report\n",
      "short_summary='In 2025, several innovative AI agent frameworks have transformed the landscape of intelligent systems. Key developments include Agent Lightning for modular reinforcement learning, AutoAgent as a zero-code solution, and Eliza for Web3 integration, all reflecting a shift towards more autonomous, context-aware, and capable agents.' markdown_report=\"# Report on Latest AI Agent Frameworks in 2025\\n\\n## Table of Contents\\n1. Introduction  \\n2. Overview of AI Agent Frameworks  \\n   - 2.1 Agent Lightning  \\n   - 2.2 AutoAgent  \\n   - 2.3 Eliza  \\n   - 2.4 AgentMesh  \\n3. Key Trends in AI Agent Development  \\n   - 3.1 Transition to Agentic AI  \\n   - 3.2 Emphasis on Multimodal Capabilities  \\n   - 3.3 The Importance of Emotional Intelligence  \\n   - 3.4 Move towards Decentralized AI  \\n   - 3.5 Enhancements in Enterprise Integration  \\n4. Challenges Facing AI Agent Frameworks  \\n5. Conclusion  \\n6. Follow Up Questions  \\n\\n---\\n\\n## 1. Introduction  \\nAs we navigate through 2025, the world of artificial intelligence (AI) is experiencing rapid transformations, particularly in the domain of AI agents. These agents, designed to operate autonomously and enhance human capabilities, are being embedded in various sectors, leading to more advanced systems characterized by unique frameworks tailored to specific tasks and needs. This report delves into the latest AI agent frameworks, highlighting their features, key trends, and the challenges that lie ahead.\\n\\n## 2. Overview of AI Agent Frameworks  \\nSeveral frameworks have emerged that showcase distinct capabilities for developing and deploying intelligent agents. Below, we outline some of the leading frameworks in 2025.\\n\\n### 2.1 Agent Lightning  \\nAgent Lightning distinguishes itself by enabling the reinforcement learning-based training of large language models (LLMs). This flexible framework decouples agent execution from training, allowing seamless integration with existing agents developed via platforms such as LangChain and OpenAI Agents SDK. It formulates agent execution as a Markov decision process and introduces **LightningRL**, a hierarchical reinforcement learning algorithm that allows for complex interaction logic, including dynamic workflows and multi-agent scenarios. This versatility positions it as a powerful tool for developers aiming to create sophisticated AI agents.\\n\\n### 2.2 AutoAgent  \\nMarketing itself as a fully automated, zero-code framework for LLM agents, AutoAgent empowers users to create and deploy agents using natural language instructions. It functions as an autonomous Agent Operating System and includes components like the Agentic System Utilities, an LLM-powered Actionable Engine, and a Self-Managing File System. The system's architecture promotes efficiency, enabling users to design tools, agents, and workflows without the need for coding or manual intervention. This democratizes AI agent development, making it accessible to a broader audience.\\n\\n### 2.3 Eliza  \\nEliza stands out as an open-source, Web3-friendly AI agent operating system. Its design allows smooth integration with decentralized applications, promoting the deployment of smart contracts and other blockchain interactions. Every element of Eliza's runtime operates as a regular TypeScript program under complete user control, enhancing transparency and enabling unique functionalities. This framework caters to developers interested in harnessing the growing potential of Web3 technologies.\\n\\n### 2.4 AgentMesh  \\nAgentMesh employs a cooperative approach with Python-based agents to streamline software development tasks. By utilizing various specialized agents—including a Planner, Coder, Debugger, and Reviewer—this framework helps transform high-level requirements into executable code. The collaboration among agents minimizes the limitations associated with single-agent systems and leverages the advantages of LLMs to enhance productivity in software development.\\n\\n## 3. Key Trends in AI Agent Development  \\nThe progression of AI agents is marked by key trends that redefine the capabilities of these systems in 2025.\\n\\n### 3.1 Transition to Agentic AI  \\nAI agents are moving from reactive to proactive models. This shift, often referred to as Agentic AI, enables agents to understand goals, orchestrate tasks, and adjust strategies in real-time. The collaboration between humans and machines is deepening, fostering a more interactive and intuitive workflow.\\n\\n### 3.2 Emphasis on Multimodal Capabilities  \\nAI agents are increasingly capable of processing and generating content across multiple modalities—text, images, audio, video, and structured data. This multimodal approach enhances their ability to engage more naturally with users and perform complex tasks that require integrating different types of information.\\n\\n### 3.3 The Importance of Emotional Intelligence  \\nThere is a growing emphasis on the emotional intelligence of AI agents. This development allows for more empathetic interactions with users, improving customer service and user experience. Agents that can understand human emotions and context better can foster deeper, more meaningful interactions.\\n\\n### 3.4 Move towards Decentralized AI  \\nDecentralization is a vital trend that reduces reliance on cloud processing, allowing AI systems to operate on local devices. This shift not only improves privacy and security but also reduces latency, which leads to faster responses and better user experiences.\\n\\n### 3.5 Enhancements in Enterprise Integration  \\nOrganizations are increasingly integrating AI agents into complex enterprise solutions, automating workflows, and facilitating improved decision-making. For instance, solutions like SAP's Joule utilize collaborative AI agents to streamline business processes and enhance efficiency.\\n\\n## 4. Challenges Facing AI Agent Frameworks  \\nDespite the rapid advancements, several challenges persist that organizations must address to fully harness the power of AI agents. Key challenges include:\\n- **Data Quality:** The performance of AI agents heavily relies on the quality of data they are trained on, necessitating ongoing efforts to ensure data integrity and relevance.\\n- **Computing Resources:** The computational requirements for training and maintaining these agents can be substantial, posing issues for organizations lacking sufficient infrastructure.\\n- **Trust and Security:** Ensuring the safety of AI operations is paramount. Vulnerabilities, including prompt injection and tool permissions issues as identified in the Model Context Protocol (MCP), must be diligently mitigated.\\n- **Ethical Considerations:** Organizations are challenged to implement AI agents responsibly, maintaining transparency and adhering to ethical standards while leveraging these technologies for competitive advantage.\\n\\n## 5. Conclusion  \\nThe advancements in AI agent frameworks by 2025 signify a transformative shift towards more autonomous and capable systems. With frameworks like Agent Lightning, AutoAgent, and Eliza leading the charge, organizations are poised to harness the full potential of AI agents to improve efficiency and enhance the collaborative workflow. However, to fully realize this potential, organizations must strategically address the associated challenges, including data quality, security, and ethical considerations.\\n\\n## 6. Follow Up Questions  \\n- What are the specific use cases for each of the highlighted frameworks in different industries?  \\n- How are organizations addressing the ethical considerations surrounding AI agent deployment?  \\n- What future developments can be expected in AI agent capabilities beyond 2025?  \\n- How will data privacy regulations impact the development and deployment of AI agents?  \\n- What role will emerging technologies like quantum computing play in the future of AI agents?  \\n\\n---\\n\\nThis report demonstrates the rapid evolution of AI agents and the frameworks that support them. As technology continues to advance, it will be essential for organizations to adapt and strategically implement these innovations to maximize their benefits.\" follow_up_questions=['What are the specific use cases for each of the highlighted frameworks in different industries?', 'How are organizations addressing the ethical considerations surrounding AI agent deployment?', 'What future developments can be expected in AI agent capabilities beyond 2025?', 'How will data privacy regulations impact the development and deployment of AI agents?', 'What role will emerging technologies like quantum computing play in the future of AI agents?']\n",
      "Hooray!\n"
     ]
    }
   ],
   "execution_count": 15
  },
  {
   "metadata": {
    "ExecuteTime": {
     "end_time": "2025-08-15T06:06:14.412694Z",
     "start_time": "2025-08-15T06:06:14.409866Z"
    }
   },
   "cell_type": "code",
   "source": "display(Markdown(report.markdown_report))",
   "outputs": [
    {
     "data": {
      "text/plain": [
       "<IPython.core.display.Markdown object>"
      ],
      "text/markdown": "# Report on Latest AI Agent Frameworks in 2025\n\n## Table of Contents\n1. Introduction  \n2. Overview of AI Agent Frameworks  \n   - 2.1 Agent Lightning  \n   - 2.2 AutoAgent  \n   - 2.3 Eliza  \n   - 2.4 AgentMesh  \n3. Key Trends in AI Agent Development  \n   - 3.1 Transition to Agentic AI  \n   - 3.2 Emphasis on Multimodal Capabilities  \n   - 3.3 The Importance of Emotional Intelligence  \n   - 3.4 Move towards Decentralized AI  \n   - 3.5 Enhancements in Enterprise Integration  \n4. Challenges Facing AI Agent Frameworks  \n5. Conclusion  \n6. Follow Up Questions  \n\n---\n\n## 1. Introduction  \nAs we navigate through 2025, the world of artificial intelligence (AI) is experiencing rapid transformations, particularly in the domain of AI agents. These agents, designed to operate autonomously and enhance human capabilities, are being embedded in various sectors, leading to more advanced systems characterized by unique frameworks tailored to specific tasks and needs. This report delves into the latest AI agent frameworks, highlighting their features, key trends, and the challenges that lie ahead.\n\n## 2. Overview of AI Agent Frameworks  \nSeveral frameworks have emerged that showcase distinct capabilities for developing and deploying intelligent agents. Below, we outline some of the leading frameworks in 2025.\n\n### 2.1 Agent Lightning  \nAgent Lightning distinguishes itself by enabling the reinforcement learning-based training of large language models (LLMs). This flexible framework decouples agent execution from training, allowing seamless integration with existing agents developed via platforms such as LangChain and OpenAI Agents SDK. It formulates agent execution as a Markov decision process and introduces **LightningRL**, a hierarchical reinforcement learning algorithm that allows for complex interaction logic, including dynamic workflows and multi-agent scenarios. This versatility positions it as a powerful tool for developers aiming to create sophisticated AI agents.\n\n### 2.2 AutoAgent  \nMarketing itself as a fully automated, zero-code framework for LLM agents, AutoAgent empowers users to create and deploy agents using natural language instructions. It functions as an autonomous Agent Operating System and includes components like the Agentic System Utilities, an LLM-powered Actionable Engine, and a Self-Managing File System. The system's architecture promotes efficiency, enabling users to design tools, agents, and workflows without the need for coding or manual intervention. This democratizes AI agent development, making it accessible to a broader audience.\n\n### 2.3 Eliza  \nEliza stands out as an open-source, Web3-friendly AI agent operating system. Its design allows smooth integration with decentralized applications, promoting the deployment of smart contracts and other blockchain interactions. Every element of Eliza's runtime operates as a regular TypeScript program under complete user control, enhancing transparency and enabling unique functionalities. This framework caters to developers interested in harnessing the growing potential of Web3 technologies.\n\n### 2.4 AgentMesh  \nAgentMesh employs a cooperative approach with Python-based agents to streamline software development tasks. By utilizing various specialized agents—including a Planner, Coder, Debugger, and Reviewer—this framework helps transform high-level requirements into executable code. The collaboration among agents minimizes the limitations associated with single-agent systems and leverages the advantages of LLMs to enhance productivity in software development.\n\n## 3. Key Trends in AI Agent Development  \nThe progression of AI agents is marked by key trends that redefine the capabilities of these systems in 2025.\n\n### 3.1 Transition to Agentic AI  \nAI agents are moving from reactive to proactive models. This shift, often referred to as Agentic AI, enables agents to understand goals, orchestrate tasks, and adjust strategies in real-time. The collaboration between humans and machines is deepening, fostering a more interactive and intuitive workflow.\n\n### 3.2 Emphasis on Multimodal Capabilities  \nAI agents are increasingly capable of processing and generating content across multiple modalities—text, images, audio, video, and structured data. This multimodal approach enhances their ability to engage more naturally with users and perform complex tasks that require integrating different types of information.\n\n### 3.3 The Importance of Emotional Intelligence  \nThere is a growing emphasis on the emotional intelligence of AI agents. This development allows for more empathetic interactions with users, improving customer service and user experience. Agents that can understand human emotions and context better can foster deeper, more meaningful interactions.\n\n### 3.4 Move towards Decentralized AI  \nDecentralization is a vital trend that reduces reliance on cloud processing, allowing AI systems to operate on local devices. This shift not only improves privacy and security but also reduces latency, which leads to faster responses and better user experiences.\n\n### 3.5 Enhancements in Enterprise Integration  \nOrganizations are increasingly integrating AI agents into complex enterprise solutions, automating workflows, and facilitating improved decision-making. For instance, solutions like SAP's Joule utilize collaborative AI agents to streamline business processes and enhance efficiency.\n\n## 4. Challenges Facing AI Agent Frameworks  \nDespite the rapid advancements, several challenges persist that organizations must address to fully harness the power of AI agents. Key challenges include:\n- **Data Quality:** The performance of AI agents heavily relies on the quality of data they are trained on, necessitating ongoing efforts to ensure data integrity and relevance.\n- **Computing Resources:** The computational requirements for training and maintaining these agents can be substantial, posing issues for organizations lacking sufficient infrastructure.\n- **Trust and Security:** Ensuring the safety of AI operations is paramount. Vulnerabilities, including prompt injection and tool permissions issues as identified in the Model Context Protocol (MCP), must be diligently mitigated.\n- **Ethical Considerations:** Organizations are challenged to implement AI agents responsibly, maintaining transparency and adhering to ethical standards while leveraging these technologies for competitive advantage.\n\n## 5. Conclusion  \nThe advancements in AI agent frameworks by 2025 signify a transformative shift towards more autonomous and capable systems. With frameworks like Agent Lightning, AutoAgent, and Eliza leading the charge, organizations are poised to harness the full potential of AI agents to improve efficiency and enhance the collaborative workflow. However, to fully realize this potential, organizations must strategically address the associated challenges, including data quality, security, and ethical considerations.\n\n## 6. Follow Up Questions  \n- What are the specific use cases for each of the highlighted frameworks in different industries?  \n- How are organizations addressing the ethical considerations surrounding AI agent deployment?  \n- What future developments can be expected in AI agent capabilities beyond 2025?  \n- How will data privacy regulations impact the development and deployment of AI agents?  \n- What role will emerging technologies like quantum computing play in the future of AI agents?  \n\n---\n\nThis report demonstrates the rapid evolution of AI agents and the frameworks that support them. As technology continues to advance, it will be essential for organizations to adapt and strategically implement these innovations to maximize their benefits."
     },
     "metadata": {},
     "output_type": "display_data"
    }
   ],
   "execution_count": 17
  },
  {
   "metadata": {
    "ExecuteTime": {
     "end_time": "2025-08-15T06:08:24.306228Z",
     "start_time": "2025-08-15T06:08:24.303991Z"
    }
   },
   "cell_type": "code",
   "source": [
    "for question in report.follow_up_questions:\n",
    "    print(question, '\\n')\n"
   ],
   "outputs": [
    {
     "name": "stdout",
     "output_type": "stream",
     "text": [
      "What are the specific use cases for each of the highlighted frameworks in different industries? \n",
      "\n",
      "How are organizations addressing the ethical considerations surrounding AI agent deployment? \n",
      "\n",
      "What future developments can be expected in AI agent capabilities beyond 2025? \n",
      "\n",
      "How will data privacy regulations impact the development and deployment of AI agents? \n",
      "\n",
      "What role will emerging technologies like quantum computing play in the future of AI agents? \n",
      "\n"
     ]
    }
   ],
   "execution_count": 22
  },
  {
   "cell_type": "markdown",
   "metadata": {},
   "source": [
    "### As always, take a look at the trace\n",
    "\n",
    "https://platform.openai.com/traces"
   ]
  },
  {
   "cell_type": "markdown",
   "metadata": {},
   "source": [
    "<table style=\"margin: 0; text-align: left; width:100%\">\n",
    "    <tr>\n",
    "        <td style=\"width: 150px; height: 150px; vertical-align: middle;\">\n",
    "            <img src=\"../assets/thanks.png\" width=\"150\" height=\"150\" style=\"display: block;\" />\n",
    "        </td>\n",
    "        <td>\n",
    "            <h2 style=\"color:#00cc00;\">Congratulations on your progress, and a request</h2>\n",
    "            <span style=\"color:#00cc00;\">You've reached an important moment with the course; you've created a valuable Agent using one of the latest Agent frameworks. You've upskilled, and unlocked new commercial possibilities. Take a moment to celebrate your success!<br/><br/>Something I should ask you -- my editor would smack me if I didn't mention this. If you're able to rate the course on Udemy, I'd be seriously grateful: it's the most important way that Udemy decides whether to show the course to others and it makes a massive difference.<br/><br/>And another reminder to <a href=\"https://www.linkedin.com/in/eddonner/\">connect with me on LinkedIn</a> if you wish! If you wanted to post about your progress on the course, please tag me and I'll weigh in to increase your exposure.\n",
    "            </span>\n",
    "        </td>\n",
    "    </tr>"
   ]
  }
 ],
 "metadata": {
  "kernelspec": {
   "display_name": ".venv",
   "language": "python",
   "name": "python3"
  },
  "language_info": {
   "codemirror_mode": {
    "name": "ipython",
    "version": 3
   },
   "file_extension": ".py",
   "mimetype": "text/x-python",
   "name": "python",
   "nbconvert_exporter": "python",
   "pygments_lexer": "ipython3",
   "version": "3.12.9"
  }
 },
 "nbformat": 4,
 "nbformat_minor": 2
}
